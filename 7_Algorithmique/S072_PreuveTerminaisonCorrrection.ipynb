{
 "cells": [
  {
   "cell_type": "markdown",
   "metadata": {
    "hideCode": false,
    "hidePrompt": false
   },
   "source": [
    "# <font color=blue>__CORRECTION ET TERMINAISON D'UN PROGRAMME - SOLUTIONS__</font>    "
   ]
  },
  {
   "cell_type": "markdown",
   "metadata": {},
   "source": [
    "## <font color=red>__Partie 1 : Un programme se termine-t-il toujours ?__</font>\n",
    "\n",
    "Lorsqu'un algorithme contient une boucle, il est raisonnable de s'interroger sur la terminaison de cet algorithme. En effet, un programme qui ne terminerait pas, par exemple parce que l'on rentre dans une boucle infinie poserait de gros problèmes.  \n",
    "Vous pouvez donc retenir ici les notions dites de **preuve** et de **terminaison**. Cet aspect de l'algorithmique est important et pour certains programmes très complexes leur terminaison n'est pas prouvée.  <br> \n",
    "En général la démontration de la terminaison d'une boucle se fait à l'aide d'un **variant** de boucle, c'est à dire un entier naturel qui décroit strictement à chaque itération.  "
   ]
  },
  {
   "cell_type": "markdown",
   "metadata": {},
   "source": [
    "#### <font color=green>**Premier exemple :**</font>  \n",
    "Considérons le programme suivant où la variable n contient initialement une valeur entière.\n",
    "Il contient une boucle while et son exécution est donc a priori susceptible de diverger. \n",
    "Qu'en pensez-vous ?\n",
    "Vous pouvez tester plusieurs valeurs..."
   ]
  },
  {
   "cell_type": "markdown",
   "metadata": {},
   "source": [
    "_<div class = \"alert alert-info\">Vos réponses ici...  \n",
    "Difficile de répondre comme ça, on peut tester plusieurs exemples et s'apercevoir qu'il semble terminer._\n"
   ]
  },
  {
   "cell_type": "code",
   "execution_count": null,
   "metadata": {
    "hideCode": false,
    "scrolled": true
   },
   "outputs": [],
   "source": [
    "n = int(input(\"Entrez une valeur entière\"))\n",
    "q = 0\n",
    "while n >= 3 :\n",
    "    n = n - 3\n",
    "    q = q + 1\n",
    "print (q)\n"
   ]
  },
  {
   "cell_type": "markdown",
   "metadata": {},
   "source": [
    "<br>  \n",
    "  On peut justifier qu'en l'occurence, ce programme va toujours se terminer.\n",
    "En effet, à chaque tour de boucle la nouvelle valeur affectée à n est strictement inférieure à la précédente. Tôt ou tard cette valeur finit par devenir inférieure ou égale à 2, ce qui provoquera l'arrêt de la boucle et l'exécution de la dernière instruction du programme.\n",
    "Cette technique de raisonnement est appelée technique du _variant_. Elle consiste à trouver parmi les éléments du programme une **quantité entière et positive** et qui **décroît strictement à chaque tour de boucle**, qu'on appelle variant de la boucle. Cela peut être comme ci dessus directement l'une des variables du programme, ou de manière plus générale une combinaison.  \n",
    "  \n",
    "#### <font color=green>**Deuxième exemple :**</font>\n",
    "Ainsi, dans le programme suivant :"
   ]
  },
  {
   "cell_type": "code",
   "execution_count": null,
   "metadata": {
    "hideCode": false,
    "hideOutput": false,
    "hidePrompt": false,
    "scrolled": true
   },
   "outputs": [],
   "source": [
    "t = [i*i for i in range (50)]\n",
    "v = 9\n",
    "i = 0\n",
    "while i < len (t) :\n",
    "    if t[i] == v: \n",
    "        break\n",
    "    i = i + 1\n",
    "print (\"Ce programme est terminé !\")"
   ]
  },
  {
   "cell_type": "markdown",
   "metadata": {},
   "source": [
    "qui parcourt un tableau t à la recherche d'un élément v (ici t est l'ensemble des 50 premier carrés), nous avons une variable i qui est incrémentée à chaque tour jusqu'à atteindre la valeur len(t).\n",
    "Ce qui diminue à chaque tour jusqu'à s'annuler est donc **l'écart entre i et len (t)**. Nous pouvons donc justifier que ce programme finit toujours en prenant\n",
    "pour variant la quantité len (t) - i."
   ]
  },
  {
   "cell_type": "markdown",
   "metadata": {},
   "source": [
    "\n",
    "<font color=purple><br>**A retenir :**</font>  \n",
    "<font color=purple>**Une boncle while permet de répéter un bloc d'instructions tant qu'une condition est vérifiée. Cette instruction ouvre la possibilité que l'exécution d'un programme diverge, c'est-à-dire se poursuive indéfiniment. Si une divergence n'est pas l'effet souhaité il devient alors utile  de réfléchir à la terminaison du programme en s'assurant que les conditions menant à l'arrêt de chaque boucle finiront effectivement par être vérifiées.**</font>  \n",
    "<font color=purple>**Afin de démontrer qu’elles terminent, on utilise un variant de boucle. C’est une expression dont la valeur est positive et entière, et qui décroit strictement à chaque tour de boucle. Trouver un variant de boucle prouve la terminaison de cette boucle.**<br></font>\n",
    "\n",
    "<br>\n",
    " \n",
    " "
   ]
  },
  {
   "cell_type": "markdown",
   "metadata": {},
   "source": [
    "#### <font color=green>**Exercice 1 :**</font>\n",
    "Le programme suivant termine-t-il parfois ? Toujours ?\n",
    "Si oui, montrez-le à l'aide d'un variant de boucle, si non trouvez un contre exemple."
   ]
  },
  {
   "cell_type": "code",
   "execution_count": null,
   "metadata": {
    "scrolled": true
   },
   "outputs": [],
   "source": [
    "n = int(input(\"Entrez un nombre entier.\"))\n",
    "q = 0\n",
    "while n != 0:\n",
    "    n -= 3\n",
    "    q += 1\n",
    "    print(\"Je suis dans la boucle...\")\n",
    "print (\"Ce programme est terminé\")"
   ]
  },
  {
   "cell_type": "markdown",
   "metadata": {},
   "source": [
    "_<div class = \"alert alert-info\">Vos réponses ici...  \n",
    "Ici le programme ne termine pas forcément, en effet on pourrait essayer n comme variant. n décroit strictement à chaque tour de boucle (-3) et il s'agit bien d'un entier. Mais il peut être négatif car la condition de sortie de la boucle est n différent de 0, et par pas de 3, on peut obtenir n négatif.  \n",
    "Si vous n'êtes pas convaincu, vous pouvez essayer en entrant n = 5 par exemple._"
   ]
  },
  {
   "cell_type": "markdown",
   "metadata": {},
   "source": [
    "#### <font color=green>**Exercice 2 :**</font>\n",
    "A désignant un entier, lequel des codes suivants ne termine pas ?\n",
    "Réponses possibles :\n",
    "\n",
    ">A  \n",
    ">```python\n",
    ">i = A + 1  \n",
    ">while i < A:  \n",
    ">    i = i-1\n",
    ">```\n",
    "\n",
    ">B  \n",
    ">\n",
    ">```python\n",
    ">i = A + 1  \n",
    ">while i < A:  \n",
    ">    i = i + 1  \n",
    ">```\n",
    "\n",
    ">C  \n",
    ">```python\n",
    ">i = A - 1  \n",
    ">while i < A:  \n",
    ">    i = i - 1  \n",
    ">```\n",
    "\n",
    ">D  \n",
    ">```python\n",
    ">i = A - 1  \n",
    ">while i < A:  \n",
    ">    i = i + 1  \n",
    ">```  "
   ]
  },
  {
   "cell_type": "code",
   "execution_count": null,
   "metadata": {
    "scrolled": true
   },
   "outputs": [],
   "source": [
    "# Vous pouvez tester ici"
   ]
  },
  {
   "cell_type": "markdown",
   "metadata": {},
   "source": [
    "_<div class = \"alert alert-info\">Vu la condition de sortie de la boucle, on peut essayer comme variant A - i.  \n",
    "Pour B et D, i = i + 1 donc A - i diminue strictement et reste positif. On sortira de la boucle.  \n",
    "Pour A, on ne rentre pas dans la boucle, dès le départ, la condition n'est pas vérifiée.  \n",
    "Reste le programme C qui ne termine pas. Au départ, A - i = A - (A-1) = 1 > 0 et augmente._"
   ]
  },
  {
   "cell_type": "markdown",
   "metadata": {},
   "source": [
    "#### <font color=green>**Exercice 3 :**</font>\n",
    "On prétend que chacun des programmes suivants, après avoir demandé à l'utilisateur deux nombres entiers positifs a et b à l'utilisateur, effectue la multiplication de a par b.\n",
    "1. Ces programmes terminent-ils ?\n",
    "2. Si oui, identifier pour chacun un variant de la boucle."
   ]
  },
  {
   "cell_type": "code",
   "execution_count": null,
   "metadata": {
    "scrolled": true
   },
   "outputs": [],
   "source": [
    "a = int(input(\"a : \"))\n",
    "b = int(input(\"b : \"))\n",
    "m = 0\n",
    "while b > 0 :\n",
    "    m = m + a\n",
    "    b = b - 1\n",
    "print(\"a * b =\", m)"
   ]
  },
  {
   "cell_type": "markdown",
   "metadata": {},
   "source": [
    "_<div class = \"alert alert-info\">Ce programme termine.  \n",
    "On peut choisir comme **variant de boucle \"b\"**, en effet, b est un entier positif. Il diminue à chaque tour de boucle à cause de l'instruction b = b - 1. Or on sort de la boucle quand b>0 n'est plus vérifié.  \n",
    "On peut remarquer que si b n'est pas positif, on ne rentre même pas dans la boucle. Il est donc évident que le programme termine._"
   ]
  },
  {
   "cell_type": "code",
   "execution_count": null,
   "metadata": {
    "scrolled": true
   },
   "outputs": [],
   "source": [
    "a = int(input(\"a : \"))\n",
    "b = int(input(\"b : \"))\n",
    "i = 0\n",
    "m = 0\n",
    "while i < b :\n",
    "    m = m + a\n",
    "    i = i + 1\n",
    "print(\"a * b =\", m)"
   ]
  },
  {
   "cell_type": "markdown",
   "metadata": {},
   "source": [
    "_<div class = \"alert alert-info\">On sort de la boucle quand b - i > 0. Cela pourrait donc être l'invariant, à condition que b-i soit un entier positif au départ et qu'il diminue stritement à chaque tour de boucle.  \n",
    "C'est bien le cas, au début i = 0, donc soit b-i>0 soit on ne rentre pas dans la boucle.  \n",
    "Et comme i augmente de  à chauqe fois, b-i diminue strictement.\n",
    "**b-i** est un variant de boucle._"
   ]
  },
  {
   "cell_type": "markdown",
   "metadata": {},
   "source": [
    "#### <font color=green>**Exercice 4 :**</font>\n",
    "On prétend que la fonction suivante réordonne les éléments du tableau t par rapport à une valeur v de référence. Il place à gauche les éléments plus petits que v et à droite les éléments plus grands.\n",
    "1. Créer \"manuellement\" un tableau de 8 éléments rangés de manière aléatoire.\n",
    "2. Que devez-vous écrire pour tester la fonction suivante avec la valeur 5 ?\n",
    "3. Justifier que cette fonction termine à l'aide de la technique du variant."
   ]
  },
  {
   "cell_type": "code",
   "execution_count": null,
   "metadata": {
    "scrolled": true
   },
   "outputs": [],
   "source": [
    "def separe(t, v):\n",
    "    i = 0\n",
    "    j = len(t) - 1\n",
    "    while i < j :\n",
    "        if t[i] <= v:\n",
    "            i += 1\n",
    "        else :\n",
    "            tmp = t[i]\n",
    "            t[i] = t[j]\n",
    "            t[j] = tmp\n",
    "            j -= 1"
   ]
  },
  {
   "cell_type": "code",
   "execution_count": null,
   "metadata": {
    "scrolled": true
   },
   "outputs": [],
   "source": [
    "# Testez le code ici\n",
    "tab=[1,6,7,4,15,12,8,2]\n",
    "print(\"Avant :\" ,tab)\n",
    "separe(tab,5)\n",
    "print(\"Après :\" ,tab)"
   ]
  },
  {
   "cell_type": "markdown",
   "metadata": {},
   "source": [
    "_<div class = \"alert alert-info\">Vos réponses ici...  \n",
    "On peut tester j-i comme variant  \n",
    "On entre dans la boucle si j-i>0, c'est le cas si le tableau contient au moins 2 éléments.  \n",
    "j-i est alors bien un entier positif.  \n",
    "Une fois dans la boucle, soit i augmente de 1, soit j diminue de 1 donc dans tous les j - i diminue de 1, donc strictement, tout en restant supérieur ou égal à 0_"
   ]
  },
  {
   "cell_type": "markdown",
   "metadata": {},
   "source": [
    "#### <font color=green>**Exercice 5 :**</font>\n",
    "On prétend que la fonction suivante affiche une certaine alternance d'éléments des 2 tableaux t1 et t2.\n",
    "1. Que devez-vous écrire pour tester la fonction suivante avec les tableaux t1 et t2 ?\n",
    "2. Justifier que cette fonction termine à l'aide de la technique du variant."
   ]
  },
  {
   "cell_type": "code",
   "execution_count": null,
   "metadata": {
    "scrolled": true
   },
   "outputs": [],
   "source": [
    "def entrelace (t1,t2) :\n",
    "    i1 = 0\n",
    "    i2 = 0\n",
    "    while i1 < len(t1) and i2 < len(t2) :\n",
    "        if t1[i1] < t2[i2] :\n",
    "            print(t1[i1],end=\" \")\n",
    "            i1 = i1 + 1\n",
    "        else :\n",
    "            print(t2[i2],end=\" \")\n",
    "            i2 = i2 + 1"
   ]
  },
  {
   "cell_type": "code",
   "execution_count": null,
   "metadata": {
    "scrolled": true
   },
   "outputs": [],
   "source": [
    "# Testez le code ici\n",
    "tab1 = [i for i in range(20) if i%2==0]\n",
    "print(\"Premier tableau :\",tab1)\n",
    "tab2 = [i for i in range(20) if i%2==1]\n",
    "print(\"Deuxième tableau :\",tab2)\n",
    "entrelace (tab1,tab2)"
   ]
  },
  {
   "cell_type": "markdown",
   "metadata": {},
   "source": [
    "_<div class = \"alert alert-info\">Vos réponses ici...  \n",
    "Le variant est len(t2)+len(t1)-i1-i2.  \n",
    "En effet soit i1 soit i2 augmente à chaque tour de boucle : le variant décoît strictement._\n",
    "\n",
    "\n",
    "."
   ]
  },
  {
   "cell_type": "markdown",
   "metadata": {},
   "source": [
    "## <font color=red>**Partie 2 : Un programme est-il toujours correct ?**</font>"
   ]
  },
  {
   "cell_type": "markdown",
   "metadata": {},
   "source": [
    "<br>Lorsqu'un programme fonctionne bien, c'est à dire qu'il réalise l'opérationa attendue, on dit qu'il est **correct**.  \n",
    "On parle aussi de la \"correction d'un algorithme\" pour dire qu'un algorithme produit bien le résultat attendu. \n",
    "<br>Les tests permettent de s’assurer que le programme se comporte comme attendu dans un certain nombre de cas, mais cela ne correspond pas à une preuve de correction. Il se peut qu’on ait oublié certains cas et que le programme comporte encore des bugs non détectés. Multiplier les exemples qui \"fonctionnent\" ne veut donc pas dire que l'algorithme donnera le \"bon résultat\" dans toutes les circonstances. C'est un peu comme en mathématiques, vérifier qu'une propriété est vraie sur un exemple n'a pas valeur de démonstration. Il se pourrait très bien que dans une situation donnée notre algorithme ne donne pas le résultat attendu.\n",
    "<br>En général, les boucles sont les parties les plus critiques des algorithmes, et plus particulièrement les boucles non-bornées (`while`). \n",
    "<br>Il y a deux choses à vérifier :\n",
    "- “ Est-ce que la boucle termine ? ”\n",
    "- “ Est-ce que la boucle fait bien ce qu’on attend ? ”.  \n",
    "\n",
    "Nous avons vu le premier cas dans le paragraphe précédent, on parle de **preuve de terminaison**. \n",
    "\n",
    "Nous allons ici parler de **preuve de correction**.  \n",
    "\n",
    "Ces preuves sont généralement faites au niveau de l’algorithme et il faut ensuite s’assurer que le programme écrit correspond bien à l’algorithme..."
   ]
  },
  {
   "cell_type": "markdown",
   "metadata": {},
   "source": [
    "#### <font color=green>**Premier exemple :**</font>\n",
    "Pour montrer la correction d'un algorithme, il est nécessaire de passer par la notion **d'invariant de boucle**. Il s'agit d'une propriété attachée à une boucle qui est vraie initialement (avant de commencer la boucle) et qui le reste lors de toute itération de la boucle. On considère donc la fonction suivante qui calcule le quotient et le reste de la division euclidienne de a par b par la méthode des soustractions successives."
   ]
  },
  {
   "cell_type": "code",
   "execution_count": null,
   "metadata": {
    "scrolled": true
   },
   "outputs": [],
   "source": [
    "def division(a, b):\n",
    "    \"\"\" Renvoie le quotient et le reste de la division de a par b.\n",
    "    Entrées : a est un entier positif, b un entier positif non nul.\n",
    "    Sortie : deux entiers : q le quotient et r le reste de la division\"\"\"\n",
    "    q = 0\n",
    "    r = a\n",
    "    while r >= b:\n",
    "        q = q + 1\n",
    "        r = r - b\n",
    "    return q, r"
   ]
  },
  {
   "cell_type": "code",
   "execution_count": null,
   "metadata": {
    "scrolled": true
   },
   "outputs": [],
   "source": [
    "# Exemple :\n",
    "division(17,4)"
   ]
  },
  {
   "cell_type": "markdown",
   "metadata": {},
   "source": [
    "\n",
    "\n",
    "On veut prouver que notre programme est correct, c'est à dire que   **$a= q \\times b + r$** avec **$0 \\le r < b$**  \n",
    "\n",
    "Au départ, donc avant d'entrer dans la boucle, $q = 0$, et $r = a$ donc **$a= q \\times b + r$** est vérifiée : c'est __l'étape d'initialisation__.  \n",
    "\n",
    "A chaque tour de boucle, on a ajouté 1 à q, retranché b à r, donc $a = (q+1)\\times b+(r-b) = q\\times b + b + r - b$ = $a= q \\times b + r$.  \n",
    "L'égalité est toujours vraie après un nouveau tour de boucle. C'est **l'étape de conservation**.  \n",
    "\n",
    "La propriété **$a= q \\times b + r$** est donc un **invariant de boucle**.    \n",
    "<br>**Nous avons donc prouvé que notre programme est correct, c'est à dire qu'il effectue bien la division euclidienne de a par b.**\n",
    "\n",
    "On peut ajouter à notre programme une assertion comme suit : cela sert à deux choses :\n",
    "- dans la phase d'élaboration du programme, on peut ainsi vérifier notre invariant,\n",
    "- une fois le programme terminé, on indique à l'utilisateur que cette égalité est toujours vérifiée, que c'est un invariant de boucle.\n",
    "\n"
   ]
  },
  {
   "cell_type": "code",
   "execution_count": null,
   "metadata": {
    "scrolled": true
   },
   "outputs": [],
   "source": [
    "def division(a, b):\n",
    "    \"\"\" Renvoie le quotient et le reste de la division de a par b.\n",
    "    Entrées : a est un entier positif, b un entier positif non nul.\n",
    "    Sortie : q et deux entiers\"\"\"\n",
    "    q = 0\n",
    "    r = a\n",
    "    while r >= b:\n",
    "        #Invariant de boucle a=q*b+r\n",
    "        assert a == q * b + r\n",
    "        q = q + 1\n",
    "        r = r - b\n",
    "    return q, r"
   ]
  },
  {
   "cell_type": "markdown",
   "metadata": {},
   "source": [
    "#### <font color=green>**Autre exemple :**</font>\n",
    "Un invariant de boucle peut également être attaché à une boucle `for`.  \n",
    "Dans ce cas, la propriété invariante peut faire référence à l'indice de boucle comme dans l'exemple suivant qui calcule la somme des n premiers entiers."
   ]
  },
  {
   "cell_type": "code",
   "execution_count": null,
   "metadata": {},
   "outputs": [],
   "source": [
    "def somme_premiers_entiers (n) :\n",
    "    s = 0\n",
    "    for i in range (1, n+1) :\n",
    "        # invariant : s = 1 + 2 + ... + i-1\n",
    "        s = s + i\n",
    "    return s"
   ]
  },
  {
   "cell_type": "code",
   "execution_count": null,
   "metadata": {},
   "outputs": [],
   "source": [
    "# A tester ici\n",
    "somme_premiers_entiers (15)"
   ]
  },
  {
   "cell_type": "markdown",
   "metadata": {},
   "source": [
    "Ici l'invariant de boucle indique que la variable s contient la somme des entiers de 1 à i - 1, où i est l'indice de boucle, qui prend toutes les valeurs de 1 à n.  \n",
    "Initialement, on a s = 0, ce qui correspond bien à une somme ne contenant aucune valeur (car i = 1).  \n",
    "Lorsqu'on effectue, une itération de la boucle, quelle qu'elle soit, on ajoute i à la somme s, ce qui preserve bien l'invariant, car la variable i est alors incréinentée par la boucle for.  \n",
    "A la sortie de la boucle, l'invariant est vérifié pour la valeur finale de i, c'est à dire n+1, et donc i - 1 = n :\n",
    "\n",
    "$$s = 1 + 2 + ...+ n~$$  \n",
    "On prouve ainsi la correction de notre algorithme."
   ]
  },
  {
   "cell_type": "markdown",
   "metadata": {},
   "source": [
    "#### <font color=purple><br>**A retenir :**</font>\n",
    "<font color=purple>**On doit tout d'abord déterminer ce qui pourrait être un invariant de boucle et qui permettra si c'est bien le cas de prouver la correction du programme. La démonstration se fait ensuite en 3 étapes :**</font>\n",
    "    \n",
    "><font color=purple>**INITIALISATION : on doit montrer que l'invariant de boucle est vrai avant la première itération de la boucle**</font>  \n",
    "><font color=purple>**CONSERVATION : on doit montrer que si l'invariant de boucle est vrai avant une itération de la boucle, il le reste avant l'itération suivante.**</font>   \n",
    "><font color=purple>**TERMINAISON : une fois la boucle terminée, l'invariant fournit une propriété utile qui aide à montrer la correction de l'algorithme.**</font>\n"
   ]
  },
  {
   "cell_type": "markdown",
   "metadata": {},
   "source": [
    "#### <font color=green>**Exercice 1 : La fonction \"factorielle\"**</font>\n",
    "On appelle factoriel(n), notée n! la fonction qui à tout nombre entier naturel n associe le produit des entier de 1 à n.  \n",
    "Par exemple : $factoriel(2) = 2 ! = 1 \\times 2 = 2,~~~~~~~~3 ! = 1 \\times 2 \\times 3 = 6...  $\n",
    "Par convention, 0 ! = 1  \n",
    "<br>\n",
    "La fonction `factoriel(n)` qui reçoit en argument un entier naturel et renvoie la valeur de n! est donnée ci-dessous.\n",
    "\n",
    "1. Trouvez le variant : un nombre strictement décroissant à chaque itération et strictement positif.\n",
    "2. Pour justifier la correction de votre code, quel invariant pouvez vous définir ?\n",
    "3. Vérifiez que cet invariant est juste à l'entrée dans la boucle, puis à chaque itération.\n",
    "4. Verifiez que l'invariant et la condition d'arrêt démontrent que la valeur renvoyée est correcte."
   ]
  },
  {
   "cell_type": "code",
   "execution_count": null,
   "metadata": {
    "scrolled": true
   },
   "outputs": [],
   "source": [
    "def factoriel(n) :\n",
    "    \"\"\"Calcule la factorielle d'un nombre n\n",
    "    Entrée : un entier positif ou nul\n",
    "    Sortie : un entier n!\"\"\"\n",
    "    f = 1\n",
    "    i = 1\n",
    "    while i < n :\n",
    "        i = i + 1\n",
    "        f = f * i\n",
    "    return f"
   ]
  },
  {
   "cell_type": "code",
   "execution_count": null,
   "metadata": {
    "scrolled": true
   },
   "outputs": [],
   "source": [
    "# On peut tester ici\n",
    "factoriel(2)"
   ]
  },
  {
   "cell_type": "markdown",
   "metadata": {},
   "source": [
    "<div class = \"alert alert-info\"><font color=blue>Correction de l'exercice 1 (factorielle) :</font>  \n",
    "\n",
    "1. Variant : n-i. Au début, n $\\ge $ 0 et i = 0. **Le variant est bien positif.**  \n",
    "Comme i est incrémenté de 1 à chaque itération et que n est constant, **n - i strictement décroissant**: on prouve ainsi la terminaison (au pire la boucle s'arrêtra quand n - i = 0).\n",
    "2. On peut supposer que l'invariant de boucle est : $f = i~!$\n",
    "3. L'invariant est $f = i~!$  \n",
    "A l'entrée de la boucle : f = 1 et i = 1 : **l'invariant est bien vérifié.**  \n",
    "On suppose vraie l'invariant à l'étape i.  \n",
    "A l'étape i + 1, on incrémente i qui vaut alors i + 1 puis on multiplie f par i + 1. Donc $f = i~! \\times (i+1) = (i+1)~!$ <br>L'invariant est vrai à l'étape i + 1 donc tout le temps.\n",
    "4. En sortie de boucle on a donc à la fois : $f = i~!~et~i=n$ (i=n étant la condition d'arrêt)  \n",
    "Ces deux conditions justifient que f = n !"
   ]
  },
  {
   "cell_type": "markdown",
   "metadata": {},
   "source": [
    "#### <font color=green>**Exercice 2 : La multiplication russe**</font>\n",
    "Afin d’illuster ces techniques de vérification, nous allons prendre un autre exemple, donné par la fonction ci-dessous. Cette technique de multiplication est très efficace sur ordinateur puisque les seules opérations utilisées sont des additions et des multiplications ou divisions par 2, ce qui revient à décaler d’un chiffre en binaire."
   ]
  },
  {
   "cell_type": "code",
   "execution_count": null,
   "metadata": {
    "scrolled": true
   },
   "outputs": [],
   "source": [
    "def multiplication_russe(a, b):\n",
    "    \"\"\" Renvoie le produit de a par b\n",
    "    a est un entier positif.\"\"\"\n",
    "    r = 0\n",
    "    while a > 0:\n",
    "        if (a%2 == 1):\n",
    "            r += b\n",
    "            a -= 1\n",
    "        a = a // 2\n",
    "        b = b * 2\n",
    "    return r"
   ]
  },
  {
   "cell_type": "code",
   "execution_count": null,
   "metadata": {
    "scrolled": true
   },
   "outputs": [],
   "source": [
    "# Pour tester\n",
    "multiplication_russe(25, 8)"
   ]
  },
  {
   "cell_type": "markdown",
   "metadata": {},
   "source": [
    "Pour cet exercice, nous noterons $a_0~et~b_0$ les valeurs initiales de a et b.  \n",
    "Nous allons utiliser l’invariant de boucle : $a \\times b + r$.\n",
    "1. Exprimez la valeur de l’invariant en fonction de $a_0~et~b_0$ avant le premier tour de boucle. On pourra noter rf le résultat final cherché.\n",
    "2. Montrez que l’invariant est préservé lors d’une itération si a est pair.\n",
    "3. Montrez que l’invariant est préservé lors d’une itération si a est impair.\n",
    "4. En déduire que $a \\times b + r = rf$ est bien un invariant de cette boucle.\n",
    "5. Que vaut a lorsque l'on sort de la boucle ? En déduire que la fonction renvoie bien le produit de a par b."
   ]
  },
  {
   "cell_type": "markdown",
   "metadata": {},
   "source": [
    "<div class = \"alert alert-info\"><font color=blue>Correction de l'exercice 2 (multiplication russe) :</font>  \n",
    "\n",
    "1. On a $a_0 \\times b_0 + 0 = a \\times b = rf$ (résultat final cherché).\n",
    "2. Si a est pair, a est divisé par 2, b multiplié par 2 et r ne change pas donc l'invariant est bien conservé.   \n",
    "On peut aussi écrire $ a_{i+1} \\times b_{i+1} + r_{i+1} = (a_i \\div 2) \\times (b_i \\times 2) + r_i = a_i \\times b_i + r_i = rf$.\n",
    "3. Si a est impair, a est décrémenté de 1, b ne change pas et r est incrémenté de b.   \n",
    "On peut  écrire $ a_{i+1} \\times b_{i+1} + r_{i+1} = (a_i+1) \\times b_i + (r_i + b) = a_i \\times b_i - b_i + r_i + b_i = a_i \\times b_i + r_i = rf$.\n",
    "4. Soit a est pair, soit il est impair. Comme l'invariant est vrai dans les deux cas : $ a \\times b + r = rf $ est bien un invariant de cette boucle.\n",
    "5. Lorsque l'on sort de la boucle, a = 0. La relation se réduit donc à r =rf.  \n",
    "La fonction renvoie r, c'est à dire rf qui est bien le produit de a par b."
   ]
  },
  {
   "cell_type": "markdown",
   "metadata": {},
   "source": [
    "#### <font color=green>**Exercice 3 : Infaisable ?**</font>\n",
    "1. Tester plusieurs valeurs pour la fonction suivante.\n",
    "2. Que peut-on supposer ?"
   ]
  },
  {
   "cell_type": "code",
   "execution_count": null,
   "metadata": {
    "scrolled": true
   },
   "outputs": [],
   "source": [
    "def syracuse(n):\n",
    "    while n > 1:\n",
    "        if (n%2 == 1):\n",
    "            n = 3*n + 1\n",
    "        n = n//2\n",
    "    return n"
   ]
  },
  {
   "cell_type": "code",
   "execution_count": null,
   "metadata": {
    "scrolled": true
   },
   "outputs": [],
   "source": [
    "# Pour tester :\n",
    "syracuse(5)"
   ]
  },
  {
   "cell_type": "markdown",
   "metadata": {},
   "source": [
    "On se doute bien que pour une fonction très complexe, il est très difficile de pouvoir expliciter un invariant de boucle.\n",
    "Mais ce n’est pas parce qu’une boucle est “simple” que cette tâche est plus aisée. Dans le cas de la suite de Syracuse, personne n’a jamais réussi à prouver que la boucle se terminait quelquesoit le nombre entier positif. Dès lors il n'est pas possible de prouver la correction de l'algorithme !"
   ]
  },
  {
   "cell_type": "markdown",
   "metadata": {},
   "source": [
    "<div class = \"alert alert-info\"><font color=blue>Correction de l'exercice 3 (infaisable ?) :</font>  \n",
    "\n",
    "On peut supposer que la fonction syracuse renvoie toujours 1, c'est à dire qu'elle se termine toujours.  \n",
    "Par contre pour le démontrer, c'est autre chose... "
   ]
  },
  {
   "cell_type": "code",
   "execution_count": null,
   "metadata": {
    "scrolled": true
   },
   "outputs": [],
   "source": []
  }
 ],
 "metadata": {
  "celltoolbar": "Hide code",
  "kernelspec": {
   "display_name": "Python 3",
   "language": "python",
   "name": "python3"
  },
  "language_info": {
   "codemirror_mode": {
    "name": "ipython",
    "version": 3
   },
   "file_extension": ".py",
   "mimetype": "text/x-python",
   "name": "python",
   "nbconvert_exporter": "python",
   "pygments_lexer": "ipython3",
   "version": "3.7.4"
  }
 },
 "nbformat": 4,
 "nbformat_minor": 4
}
