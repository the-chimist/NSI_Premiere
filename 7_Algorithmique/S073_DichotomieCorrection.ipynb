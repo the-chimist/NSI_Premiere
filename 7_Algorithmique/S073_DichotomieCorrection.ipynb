{
 "cells": [
  {
   "cell_type": "markdown",
   "metadata": {
    "hideCode": false,
    "hidePrompt": false
   },
   "source": [
    "# <div class = \"alert alert-info\"><font color=blue>__ALGORITHME DE DICHOTOMIE - CORRECTION__</font></div>  \n",
    "\n",
    "Livre : voir chapitre 11 pages 153 à 159."
   ]
  },
  {
   "cell_type": "markdown",
   "metadata": {},
   "source": [
    "## <font color=red>__Partie 1 : La recherche en table__</font>\n",
    "Dans la chapitre précédent, nous avons vu  un exemple d’un problème important en algorithmique : la recherche en\n",
    "table. En effet, beaucoup de systèmes informatiques, tels les dictionnaires, les moteurs de recherche, les systèmes d’information des banques et des administrations, servent essentiellement, à stocker des informations et à les restituer\n",
    "quand on les interroge."
   ]
  },
  {
   "cell_type": "markdown",
   "metadata": {},
   "source": [
    "#### <font color=green>**Premier exemple : recherche dans un répertoire :**</font>  \n",
    "On peut par exemple écrire un programme qui gère un répertoire constitué de deux listes, contenant l’une des noms et l’autre des numéros de téléphone. Ce programme attend en entrée un nom et indique le numéro de téléphone correspondant, ou bien\n",
    "indique que ce nom n’appartient pas au répertoire."
   ]
  },
  {
   "cell_type": "code",
   "execution_count": null,
   "metadata": {
    "hideCode": false,
    "scrolled": true
   },
   "outputs": [],
   "source": [
    "# Les items du répertoire\n",
    "nom = [\"\" for i in range(0,10)]\n",
    "tel = [\"\" for i in range(0,10)]\n",
    "#Remplissage du répertoire\n",
    "nom[0] = \"Alice\"\n",
    "tel[0] = \"0606060606\"\n",
    "nom[1] = \"Bob\"\n",
    "tel[1] = \"0606060607\"\n",
    "nom[2] = \"Charles\"\n",
    "tel[2] = \"0606060608\"\n",
    "nom[3] = \"Djamel\"\n",
    "tel[3] = \"0606060609\"\n",
    "nom[4] = \"Étienne\"\n",
    "tel[4] = \"0606060610\"\n",
    "nom[5] = \"Frédérique\"\n",
    "tel[5] = \"0606060611\"\n",
    "nom[6] = \"Guillaume\"\n",
    "tel[6] = \"0606060612\"\n",
    "nom[7] = \"Hector\"\n",
    "tel[7] = \"0606060613\"\n",
    "nom[8] = \"Isabelle\"\n",
    "tel[8] = \"0606060614\"\n",
    "nom[9] = \"Jérôme\"\n",
    "tel[9] = \"0606060615\""
   ]
  },
  {
   "cell_type": "code",
   "execution_count": null,
   "metadata": {},
   "outputs": [],
   "source": [
    "nom, tel\n",
    "# Il pourrait être plus commode de stocker ces informations avec une structure de dictionnaire, vous pouvez essayer."
   ]
  },
  {
   "cell_type": "code",
   "execution_count": null,
   "metadata": {
    "scrolled": true
   },
   "outputs": [],
   "source": [
    "#Recherche du numéro associé au nom s\n",
    "s = input(\"Quel nom cherchez-vous ?\")\n",
    "i = 0\n",
    "while i < 10 and s != nom[i]:\n",
    "    i = i + 1\n",
    "if i < 10:\n",
    "    print(tel[i])\n",
    "else:\n",
    "    print(\"Inconnu\")"
   ]
  },
  {
   "cell_type": "markdown",
   "metadata": {},
   "source": [
    "Ce programme recherche, dans la liste nom, l’indice de la chaîne s entrée par l’utilisateur, en comparant cette chaîne successivement à tous les éléments de la liste. Il suffit ensuite d’afficher l’élément de même indice de la liste tel.  \n",
    "On peut instrumenter ce programme en ajoutant une instruction print(\".\",end=\"\") dans la boucle afin de visualiser le nombre de comparaisons effectuées."
   ]
  },
  {
   "cell_type": "code",
   "execution_count": null,
   "metadata": {},
   "outputs": [],
   "source": [
    "s= input(\"Quel nom cherchez-vous ?\")\n",
    "i = 0\n",
    "while i < 10 and s!= nom[i]:\n",
    "    print(\".\",end=\"\")\n",
    "    i = i + 1\n",
    "print(\".\")\n",
    "if i < 10:\n",
    "    print(tel[i])\n",
    "else:\n",
    "    print(\"Inconnu\")"
   ]
  },
  {
   "cell_type": "markdown",
   "metadata": {},
   "source": [
    "On obtient alors trois points ... quand on cherche le numéro de téléphone de Charles, qui est plutôt au début de la liste, mais dix points .......... quand on cherche celui de Jérôme, qui est à la fin.\n",
    "\n",
    "\n",
    "Si on utilisait cette méthode pour chercher un mot dans un dictionnaire, on ouvrirait celui-ci à la première page et on comparerait le mot recherché au premier mot du dictionnaire, puis au deuxième, puis au troisième, etc., jusqu’à trouver le mot recherché, ou arriver au dernier mot du dictionnaire. Un dictionnaire courant contenant 60 000 mots et une comparaison prenant une demi-seconde, il faudrait, dans le pire des cas, 30 000 secondes, soit huit heures et vingt minutes, pour trouver le mot recherché ou se convaincre qu’il n’appartient pas au dictionnaire.  \n",
    "\n",
    "\n",
    "Bien entendu, ce n’est pas ainsi que l’on procède : on ouvre le dictionnaire au milieu, on compare le mot recherché au mot médian. Si le mot recherché est avant le mot médian dans l’ordre alphabétique, on élimine la seconde moitié du dictionnaire, sans même la regarder ; s’il est après le mot médian, on élimine la première moitié. En recommençant avec le demi-dictionnaire restant, on élimine ensuite un demi-dictionnaire et on continue jusqu’à trouver le mot en question ou obtenir l’ensemble vide, auquel cas le mot recherché n’est pas dans le dictionnaire. Cet algorithme de recherche d’un élément dans une table s’appelle la recherche par dichotomie (tomia, couper, dikha, en deux).  \n",
    "\n",
    "\n",
    "Si on cherche un terme dans un dictionnaire de 60 000 mots :\n",
    "- Après 1 comparaison, on le cherche dans un ensemble d’au plus 30 000 mots.\n",
    "- Après 2 comparaisons, on le cherche dans un ensemble d’au plus 15 000 mots.\n",
    "- Après 3 comparaisons, on le cherche dans un ensemble d’au plus 7 500 mots.\n",
    "- Après 4 comparaisons, on le cherche dans un ensemble d’au plus 3 750 mots.\n",
    "- Après 5 comparaisons, on le cherche dans un ensemble d’au plus 1 875 mots.\n",
    "- Après 6 comparaisons, on le cherche dans un ensemble d’au plus 937 mots.\n",
    "- Après 7 comparaisons, on le cherche dans un ensemble d’au plus 468 mots.\n",
    "- Après 8 comparaisons, on le cherche dans un ensemble d’au plus 234 mots.\n",
    "- Après 9 comparaisons, on le cherche dans un ensemble d’au plus 117 mots.\n",
    "- Après 10 comparaisons, on le cherche dans un ensemble d’au plus 58 mots.\n",
    "- Après 11 comparaisons, on le cherche dans un ensemble d’au plus 29 mots.\n",
    "- Après 12 comparaisons, on le cherche dans un ensemble d’au plus 14 mots.\n",
    "- Après 13 comparaisons, on le cherche dans un ensemble d’au plus 7 mots.\n",
    "- Après 14 comparaisons, on le cherche dans un ensemble d’au plus 3 mots.\n",
    "- Après 15 comparaisons, on le cherche dans un ensemble d’au plus 1 mot.  \n",
    "\n",
    "Au bout de 16 comparaisons seulement, on a trouvé le mot dans le dictionnaire, ou on sait qu’il n’y est pas : 8 secondes suffisent donc, contre 8 heures et 20 minutes, soit un temps de recherche divisé par 3 750 !!\n",
    "  "
   ]
  },
  {
   "cell_type": "markdown",
   "metadata": {},
   "source": [
    "#### <font color=green>**Deuxième exemple : Le nombre secret :**</font>  \n"
   ]
  },
  {
   "cell_type": "markdown",
   "metadata": {},
   "source": [
    "<div class = \"alert alert-warning\">  \n",
    "Vous devez réaliser le programme suivant :  \n",
    "    \n",
    "- il commence par générer aléatoirement un nombre entier entre 0 et 10000,  \n",
    "- il nous propose de le deviner en saisissant un nombre de notre choix,\n",
    "- le programme nous répond \"Gagné\" si le nombre choisi est le nombre à deviner. Il donne des indices \"supérieur\" ou \"inférieur\" dans les autres cas.\n",
    "Cette partie est une fonction dont un paramètre est le nombre choisi par l'utilisateur.\n",
    "- il affiche le nombre de tentatives pour trouver.\n",
    "</div>\n"
   ]
  },
  {
   "cell_type": "code",
   "execution_count": null,
   "metadata": {},
   "outputs": [],
   "source": [
    "# Solution :\n",
    "from random import randint\n",
    "\n",
    "def nombreSecret(n,nombreADeviner):\n",
    "    \"\"\"Compare deux nombres et indique si le second est plus grand ou plus petit que le premier\n",
    "    Entrée : deux nombres\n",
    "    Sortie : une chaine de caractères\"\"\"\n",
    "    if n > nombreADeviner :\n",
    "        return (\"Le nombre à trouver est plus petit !\")\n",
    "    else :\n",
    "        return (\"Le nombre à trouver est plus grand !\")\n",
    "    \n",
    "    \n",
    "\n",
    "def main() :\n",
    "    nombreADeviner = randint(0, 3) # choix du nombre aléatoire\n",
    "    nbessai = 1\n",
    "    n = int(input(\"Quel nombre proposez-vous ?\"))\n",
    "    while n != nombreADeviner :\n",
    "        print(nombreSecret(n,nombreADeviner)) #Affichage du retour de la fonction\n",
    "        nbessai = nbessai + 1\n",
    "        n = int(input(\"Quel nombre proposez-vous ?\"))\n",
    "        \n",
    "    print(f\"Vous avez gagné, le nombre était bien {n}, trouvé en {nbessai} tentatives\")\n",
    "    \n",
    "main()"
   ]
  },
  {
   "cell_type": "markdown",
   "metadata": {},
   "source": [
    "Au cours d’une recherche par dichotomie, soit on tombe sur le résultat, soit on divise par deux la taille de l’ensemble dans lequel on recherche le mot, et ceci à chaque comparaison. De ce fait, le nombre de comparaisons nécessaires pour trouver un élément dans une table est, dans le pire des cas, le logarithme entier de la taille de la table.  \n",
    "Le gain qui consiste à passer d’un nombre de comparaisons proportionnel au nombre d’éléments à un nombre de comparaison proportionnel à son logarithme entier est immense. Quand le nombre d’éléments atteint quelques millions ou quelques milliards, son logarithme entier ne vaut que 20 ou 30 :  \n",
    "\n",
    "| n                      | 0   | 2   | 4   | 8   | 16  | ... | 256 | ... | 1024 | ... | Million | ... | Milliard |     |     |\n",
    "| ---------------------- | ----- | ----- | ----- | ----- | ----- | ----- | ----- | ----- | ------ | ----- | --------- | ----- | ---------- | --- | --- |\n",
    "| Logarithme entier de n | 0   | 1   | 2   | 3   | 4   | ... | 8   | ... | 10   | ... |20| ... | 30 |     |     |\n",
    "|                        |     |     |     |     |     |     |     |     |      |     |         |     |          |     |   |\n",
    "\n",
    "La dichotomie permet, par exemple, de rechercher en un maximum de 26 étapes, le nom de quelqu’un dans l’annuaire des 60 millions de Français.\n",
    "Bien entendu, cet algorithme de recherche par dichotomie ne fonctionne que parce que, dans un dictionnaire, les mots sont ordonnés par ordre alphabétique. Si les mots avaient été dans le désordre, il aurait fallu tout fouiller. De manière générale, il faut que les éléemnts soient triés.\n",
    "\n"
   ]
  },
  {
   "cell_type": "markdown",
   "metadata": {},
   "source": [
    "**Deuxième version :**  \n",
    "<div class = \"alert alert-warning\">Le programme commence par demander au joueur l'intervalle dans lequel il doit deviner le nombre.  \n",
    "\n",
    "Puis le programme commence par demander au joueur de combien de tentatives il pense avoir besoin.  \n",
    "Cette valeur sera un paramètre de la fonction.  \n",
    "Il affichera perdu si le nombre de tentatives est atteint avant d'avoir trouvé le nombre.\n"
   ]
  },
  {
   "cell_type": "code",
   "execution_count": null,
   "metadata": {},
   "outputs": [],
   "source": [
    "from random import randint\n",
    "\n",
    "def nombreSecret(n,nombreADeviner):\n",
    "    \"\"\"Compare deux nombres et indique si le second est plus grand ou plus petit que le premier\n",
    "    Entrée : deux nombres\n",
    "    Sortie : une chaine de caractères\n",
    "    \"\"\"\n",
    "    if n > nombreADeviner :\n",
    "        return (\"Le nombre à trouver est plus petit !\")\n",
    "    else :\n",
    "         return (\"Le nombre à trouver est plus grand !\")\n",
    "    \n",
    "def nbAdeviner():\n",
    "    \"\"\"Renvoie un nombre aléatoire compris entre deux bornes\n",
    "    fournies par l'utilisateur\"\"\"\n",
    "    a = int(input(\"Quel sera le plus petit nombre possible de l'intervalle ?  \"))\n",
    "    b = int(input(\"Quel sera le plus grand nombre possible de l'intervalle ?  \"))\n",
    "    print (f\"Vous devrez trouver un nombre entre {a} et {b} inclus.\")\n",
    "    return randint(a, b)\n",
    "\n",
    "def tentatives(maxi,realises) :\n",
    "    \"\"\"Renvoie vrai si le nombre réalises est supérieur ou égal\n",
    "    au nombre maxi, faux\"\"\"\n",
    "    if realises >= maxi :\n",
    "        return False\n",
    "    else :\n",
    "        return True\n",
    "\n",
    "def main() :\n",
    "    nombreADeviner = nbAdeviner()\n",
    "    nbessai = 1\n",
    "    essaimax = int(input(\"De combien de tentatives pensez-vous avoir besoin pour trouver le nombre ?\"))\n",
    "    n = int(input(\"Quel nombre proposez-vous ?\"))\n",
    "    while (n != nombreADeviner and tentatives (essaimax,nbessai)):\n",
    "        print(nombreSecret(n,nombreADeviner))\n",
    "        nbessai = nbessai + 1\n",
    "        n = int(input(\"Quel nombre proposez-vous ?\"))\n",
    "        \n",
    "    if n == nombreADeviner :\n",
    "        print(f\"Vous avez gagné, le nombre était bien {n}, trouvé en {nbessai} tentatives\")\n",
    "    else :\n",
    "        print(f\"Vous avez déjà effectué {nbessai} essais, vous avez perdu !\")\n",
    "    \n",
    "main()"
   ]
  },
  {
   "cell_type": "markdown",
   "metadata": {},
   "source": [
    "## <font color=red>__Partie 2 : L'algorithme de dichotomie__</font>\n",
    "Nous allons maintenant essayer de réaliser le même jeu mais dans l'ordre inverse : c'est vous qui choisssez un nombre et c'est l'ordinateur qui doit essayer de le deviner."
   ]
  },
  {
   "cell_type": "markdown",
   "metadata": {},
   "source": [
    "#### <font color=green>**Premier exemple : méthode linéaire :**</font>\n",
    "<div class = \"alert alert-warning\">  \n",
    "Pour simplifier, on considèrera que le nombre est choisi aléatoirement dans une liste qui contient tous les nombres entiers.  Le programme doit retrouver ce nombre en testant tous les cas.  \n",
    "Il affichera alors le nombre à trouver ainsi que le nombre de tentatives pour y arriver.\n"
   ]
  },
  {
   "cell_type": "code",
   "execution_count": null,
   "metadata": {},
   "outputs": [],
   "source": [
    "def lineaire(nbre_secret):\n",
    "    for i in range(10000):\n",
    "        if nombres[i]==nbre_secret:\n",
    "            return \"Trouvé!\""
   ]
  },
  {
   "cell_type": "code",
   "execution_count": null,
   "metadata": {},
   "outputs": [],
   "source": [
    "# Solution :\n",
    "nombres = [i for i in range (0,10000)]\n",
    "nbchoisi = int(input(\"Quel nombre choisissez-vous ?\"))\n",
    "lineaire (nbchoisi)"
   ]
  },
  {
   "cell_type": "markdown",
   "metadata": {},
   "source": [
    "#### <font color=green>**Deuxième exemple : méthode dichotomique :**</font>\n",
    "<div class = \"alert alert-warning\">  \n",
    "Le problème est le même que dans l'exemple précédent mais on chercher à le résoudre par une méthode dichotomique.\n",
    "Il affichera alors également le nombre à trouver ainsi que le nombre de tentatives pour y arriver.\n"
   ]
  },
  {
   "cell_type": "code",
   "execution_count": null,
   "metadata": {},
   "outputs": [],
   "source": [
    "def dicho (nbre_secret) :\n",
    "    \"\"\"Renvoie le nombre secret cherché dans un tableau par dichotomie,\n",
    "    None s'il ne s'y trouve pas\"\"\"\n",
    "    gauche = 0\n",
    "    droite = len(nombres) - 1\n",
    "    while gauche <= droite:\n",
    "        milieu = (gauche + droite) // 2\n",
    "        if nombres[milieu] < nbre_secret :\n",
    "            gauche = milieu + 1\n",
    "        elif nombres[milieu] > nbre_secret:\n",
    "            droite = milieu - 1\n",
    "        else:\n",
    "            return milieu\n",
    "    # La valeur ne se trouve pas dans le tableau\n",
    "    return None"
   ]
  },
  {
   "cell_type": "code",
   "execution_count": null,
   "metadata": {},
   "outputs": [],
   "source": [
    "# Solution :\n",
    "nombres = [i for i in range (0,10000)]\n",
    "nbchoisi = int(input(\"Quel nombre choisissez-vous ?\"))\n",
    "dicho (nbchoisi)"
   ]
  },
  {
   "cell_type": "markdown",
   "metadata": {},
   "source": [
    "## <font color=red>__Partie 3 : Terminaison et correction de l'algorithme de dichotomie__</font>\n",
    "Nous allons maintenant essayer de prouver d'une part que cet algorithme termine et d'autre part qu'il répond correctement au problème."
   ]
  },
  {
   "cell_type": "markdown",
   "metadata": {},
   "source": [
    "#### <font color=green>**Terminaison de l'algorithme de recherche dichotomique :**</font>\n",
    "<div class = \"alert alert-warning\">  \n",
    "\n",
    "1. Observer la fonction «dicho» ci-dessous : ce programme vous parait-il satisfaisant ?  \n",
    "2. Pourquoi un programme ne se terminerait-il pas ?\n",
    "3. Que proposeriez-vous pour répondre à ces questions ? Conclure.\n",
    "\n"
   ]
  },
  {
   "cell_type": "code",
   "execution_count": null,
   "metadata": {},
   "outputs": [],
   "source": [
    "liste=[]\n",
    "for i in range(1,10001):\n",
    "    liste.append(i)\n",
    "\n",
    "\n",
    "def dicho(nbre_secret):\n",
    "    debut = liste[0]\n",
    "    fin = liste[9999]\n",
    "    m=(debut+fin)//2\n",
    "    cpt=0\n",
    "    if nbre_secret<=0 or nbre_secret>10000:\n",
    "        return False\n",
    "    while m!=nbre_secret:\n",
    "        cpt=cpt+1\n",
    "        if nbre_secret<m:\n",
    "            print(\"test n° \", cpt, \"sur intervalle de\", debut, \"à\", m)\n",
    "            fin = m\n",
    "            m=(debut+fin)//2\n",
    "        else:\n",
    "            print(\"test n° \", cpt, \"sur intervalle de\", m, \"à\", fin)\n",
    "            debut=m\n",
    "            m=((debut+fin)//2)\n",
    "    print(\"test n° \",cpt+1)\n",
    "    print(\"Le nombre choisi était \", m)\n",
    "    return True"
   ]
  },
  {
   "cell_type": "code",
   "execution_count": null,
   "metadata": {},
   "outputs": [],
   "source": [
    "dicho(10000)"
   ]
  },
  {
   "cell_type": "markdown",
   "metadata": {},
   "source": [
    "<div class = \"alert alert-info\">\n",
    "Votre réponse : On pourrait supposer que oui en le testant sur plusieurs valeurs. En fait il y a un problème pour trouver 10000, vous pouvez tester : le programme ne s'arrête pas.  \n",
    "Conclusion, faire des tests ne suffit pas, il faut prouver la terminaison d'un algorithme à l'aide d'un variant de boucle."
   ]
  },
  {
   "cell_type": "markdown",
   "metadata": {},
   "source": [
    "<div class = \"alert alert-warning\">Prouver la terminaison de l'algorithme suivant :\n",
    "\n",
    "\n",
    ">``` python\n",
    ">def dicho (nbre_secret):\n",
    ">    \"\"\"Renvoie le nombre secret cherché dans un tableau par dichotomie,\n",
    ">    None s'il ne s'y trouve pas\"\"\"\n",
    ">    gauche = 0\n",
    ">    droite = len(nombres) - 1\n",
    ">    while gauche <= droite:\n",
    ">        milieu = (gauche + droite) // 2\n",
    ">        if nombres[milieu] < nbre_secret :\n",
    ">            gauche = milieu + 1\n",
    ">        elif nombres[milieu] > nbre_secret:\n",
    ">            droite = milieu - 1\n",
    ">        else:\n",
    ">            return milieu\n",
    ">    # La valeur ne se trouve pas dans le tableau\n",
    ">    return None```"
   ]
  },
  {
   "cell_type": "markdown",
   "metadata": {},
   "source": [
    "<div class = \"alert alert-info\">  \n",
    "    \n",
    "**Montrer la terminaison de la recherche dichotomique à l’aide d’un variant de boucle :  \n",
    "Le problème de non terminaison ne peut venir ici que de la boucle. Il n’y a pas de difficulté avec la boucle « pour » qui s’effectue un nombre fini de fois. Mais pour la boucle « tant que », il est nécessaire d’étudier sa condition de sortie.\n",
    "Pour démontrer la terminaison d’une boucle, il faut par exemple trouver une quantité, fonction des paramètres de la boucle, qui est un entier positif et qui décroît strictement à chaque itération. Cette quantité est appelée variant de boucle.  \n",
    "<br>\n",
    "Quel pourrait être ici le variant à tester ?**  \n",
    "    \n",
    "**Dans notre algorithme, on peut choisir `droite - gauche`. En effet on sort de la boucle si `droite - gauche < 0` .  \n",
    "Au départ, `droite - gauche` est un entier positif. Soit droite diminue de 1, soit gauche augmente de 1 donc `droite - gauche` diminue de 1 à chaque tour de boucle.  \n",
    "Nous avons bien trouvé un entier positif, qui décroît dtrictement et dont une valeur négative entraîne la sortie de la boucle.**  \n",
    "\n",
    "                                                                                                                 "
   ]
  },
  {
   "cell_type": "markdown",
   "metadata": {},
   "source": [
    "#### <font color=green>**Correction de l'algorithme de recherche dichotomique :**</font>  \n",
    "Prouver la correction de l'algorithme précédent à l'aide d'un invariant de boucle.\n"
   ]
  },
  {
   "cell_type": "markdown",
   "metadata": {},
   "source": [
    "**<div class = \"alert alert-info\">Ce n'est pas si évident que ça, il y a plusieurs moyens d'y arriver :  \n",
    "<br/>    <font color=black>L'une des possibilités est de considérer la propriété :\n",
    "<br/>\n",
    "Le nombre cherché appartient à l'intervalle [ gauche ; droite ]  \n",
    "<br/>\n",
    "C'est vrai au départ (étape 0) puisque l'intervalle correspond à tout le tableau.  \n",
    "Supposons maintenant que c'est le cas à l'étape n.  \n",
    "A l'étape (n+1), si le nombre cherché est supérieur strictement au milieu, on redéfinit [ gauche ; droite ] avec gauche = milieu + 1, le nombre cherché est toujours dans le nouvel intervalle [ gauche ; droite ].  \n",
    "Si le nombre cherché est inférieur strictement au milieu, on redéfinit [ gauche ; droite ] avec droite = milieu - 1, le nombre cherché est toujours dans le nouvel intervalle [gauche;droite].  \n",
    "Enfin si le nombre cherché est égal au milieu, on ne redéfinit [gauche;droite] donc le nombre cherché est toujours dans le nouvel intervalle [ gauche ; droite ].\n",
    "La propriété est donc vraie à l'étape (n+1) donc tout le temps.  \n",
    "<br/>\n",
    "Il y a deux possibilités de sortir de la boucle :  \n",
    " _ Soit on a trouvé le nombre (return milieu) et l'algorithme est correct,  \n",
    " _ Soit on n'a pas trouvé le nombre et la condition de sortie indique que l'intervalle [ gauche ; droite ] est vide. Cela signifie que le nombre n'est pas dans l'intervalle, il est donc correct de renvoyer \"None\".  \n",
    "Enfin un des problème qui peut se poser est l'accès en dehors des limites du tableau \"nombres\" : ici ne n'est pas le cas car on accède uniquement à l'indice milieu et $ 0 \\le g \\le m \\le d \\le len(t) $.  \n",
    "<br/>\n",
    "Comme indiqué au début prouver la correction d'un algorithme n'est pas si évident que ça.**</font>\n",
    "    \n",
    "</div>"
   ]
  },
  {
   "cell_type": "markdown",
   "metadata": {},
   "source": [
    "\n",
    "<div class = \"alert alert-danger\">  \n",
    "\n",
    "**A retenir :**  \n",
    "<br/>  \n",
    "<font color=black>**La recherche dichotomique permet de rechercher une valeur dans un tableau trié.  \n",
    "Le principe consiste à couper en deux à chauqe fois la portion du tableau dans laquelle s'effectue la recherche.  \n",
    "Cet algorithme est très efficace. Il ne faut que quelques dizianes de comparaisons élémentaires pour chercher une valeur donnée dans un tableau en contenant des milliards.  \n",
    "Il faut néanmoins tenir compte du temps nécessaire au préalable pour trier le tableau...  \n",
    "Enfin vous pouvez retenir que cet algorithme appartient à la méthode \"diviser pour régner\" dont d'autres exemples seront vus en Terminale.**</font>\n",
    "\n",
    "<br></div>\n",
    " \n",
    " "
   ]
  },
  {
   "cell_type": "markdown",
   "metadata": {},
   "source": [
    "### <font color=purple>**Exercice n°1 : Annuaire**</font>\n",
    "On suppose que l’on a un annuaire qui contient les sept milliards d’êtres humains dans\n",
    "l’ordre alphabétique de leurs nom, prénom, lieu de naissance et date de naissance. Combien\n",
    "de comparaisons sont nécessaires pour retrouver une personne dans cet annuaire ?"
   ]
  },
  {
   "cell_type": "markdown",
   "metadata": {},
   "source": [
    "### <font color=purple>**Exercice n°2 : Coût de l'algorithme**</font>\n",
    "Les algorithmes de recherche n’ont pas tous la même efficacité on parle de complexité. Certains sont plus efficaces que d’autres comme la recherche dichotomique consistant à rechercher l’élément dans un sous-ensemble réduit de moitié à chaque étape.  \n",
    "Exécutez la cellule suivante qui contient plusieurs fonctions utiles pour la suite et passez aux questions ci-dessous."
   ]
  },
  {
   "cell_type": "code",
   "execution_count": 86,
   "metadata": {},
   "outputs": [],
   "source": [
    "# Ces fonctions permettent d'implémenter des algorithmes de recherches dichotomiques et linéaires\n",
    "# et de comparer leur mode de fonctionnement.\n",
    "\n",
    "import time\n",
    "from matplotlib import pyplot as plt\n",
    "\n",
    "# 1-Création de la liste contenant les nombres\n",
    "liste=[]\n",
    "for i in range(1,10001):\n",
    "    liste.append(i)\n",
    "        \n",
    "# 2-Fonction de recherche lineaire avec affichage jusqu'au nombre 10000        \n",
    "def lineaire_print(nbre_secret):\n",
    "    for i in range(10000):\n",
    "        print(\"Test n° \", i+1)\n",
    "        if liste[i]==nbre_secret:\n",
    "            return \"Nombre trouvé par recherche linéaire !\"\n",
    "\n",
    "# 3-Fonction de recherche dichotomique avec affichegedicho_print jusqu'au nombre 10000\n",
    "def dicho_print (nbre_secret):\n",
    "    \"\"\"Renvoie le nombre secret cherché dans un tableau par dichotomie,\n",
    "    None s'il ne s'y trouve pas\"\"\"\n",
    "    gauche = 0\n",
    "    droite = len(liste) - 1\n",
    "    compteur = 0\n",
    "    while gauche <= droite:\n",
    "        compteur = compteur +1\n",
    "        milieu = (gauche + droite) // 2\n",
    "        if liste[milieu] < nbre_secret :\n",
    "            gauche = milieu + 1\n",
    "            print(f\"Test n° {compteur} sur intervalle de {milieu} à {droite}\")\n",
    "        elif liste[milieu] > nbre_secret:\n",
    "            droite = milieu - 1\n",
    "            print(f\"Test n° {compteur} sur intervalle de {gauche} à {milieu}\")\n",
    "        else:\n",
    "            return f\"Test n° {compteur}, nombre trouvé par recherche dichotomique !\"\n",
    "    # La valeur ne se trouve pas dans le tableau\n",
    "    return None\n",
    "\n",
    "\n",
    "# 4-Fonction nombre étapes par recherche lineaire (nombre jusqu'à 10000)\n",
    "def lineaire_etapes(nbre_secret):\n",
    "    nb_etapes=0\n",
    "    for i in range(10000):\n",
    "        nb_etapes=nb_etapes+1\n",
    "        if liste[i]==nbre_secret:\n",
    "            return f\"Nombre trouvé! en {nb_etapes} étapes\"\n",
    "\n",
    "        \n",
    "# 5-Fonction nombre étapes par recherche dichotomique (nombre jusqu'à 10000)\n",
    "def dicho_etapes(nbre_secret):\n",
    "    gauche = 0\n",
    "    droite = len(liste) - 1\n",
    "    nb_etapes = 0\n",
    "    while gauche <= droite:\n",
    "        nb_etapes = nb_etapes +1\n",
    "        milieu = (gauche + droite) // 2\n",
    "        if liste[milieu] < nbre_secret :\n",
    "            gauche = milieu + 1\n",
    "        elif liste[milieu] > nbre_secret:\n",
    "            droite = milieu - 1\n",
    "        else:\n",
    "            return f\"Nombre trouvé par recherche dichotomique en {nb_etapes} étapes !\"\n",
    "    # La valeur ne se trouve pas dans le tableau\n",
    "    return None\n",
    "\n",
    "# 6-Fonction durée recherche lineaire\n",
    "def lineaire_time(nbre_secret):\n",
    "    start_time = time.time()\n",
    "    for i in range(10000):\n",
    "        if liste[i]==nbre_secret:\n",
    "            return f\"Nombre trouvé par recherche linéaire en {1000*(time.time() - start_time)} ms !\"\n",
    "        \n",
    "\n",
    "# 7-Fonction durée recherche dichotomique\n",
    "def dicho_time(nbre_secret):\n",
    "    start_time = time.time()\n",
    "    gauche = 0\n",
    "    droite = len(liste) - 1\n",
    "    nb_etapes = 0\n",
    "    while gauche <= droite:\n",
    "        nb_etapes = nb_etapes +1\n",
    "        milieu = (gauche + droite) // 2\n",
    "        if liste[milieu] < nbre_secret :\n",
    "            gauche = milieu + 1\n",
    "        elif liste[milieu] > nbre_secret:\n",
    "            droite = milieu - 1\n",
    "        else:\n",
    "            return f\"Nombre trouvé par recherche dichotomique en {1000*(time.time() - start_time)} ms !\"\n",
    "    # La valeur ne se trouve pas dans le tableau\n",
    "    return None\n",
    "\n",
    "# 8-Fonctions de mesure du temps en fonction de la taille du tableau\n",
    "def lineaire_tps(taille,nbre_secret):\n",
    "    start_time = time.time()\n",
    "    n=taille\n",
    "    for i in range(n):\n",
    "        if liste[i]==nbre_secret:\n",
    "            return 1000*(time.time() - start_time)\n",
    "\n",
    "def dicho_tps(taille,nbre_secret):\n",
    "    start_time = time.time()\n",
    "    gauche = 0\n",
    "    droite = len(liste) - 1\n",
    "    nb_etapes = 0\n",
    "    while gauche <= droite:\n",
    "        nb_etapes = nb_etapes +1\n",
    "        milieu = (gauche + droite) // 2\n",
    "        if liste[milieu] < nbre_secret :\n",
    "            gauche = milieu + 1\n",
    "        elif liste[milieu] > nbre_secret:\n",
    "            droite = milieu - 1\n",
    "        else:\n",
    "            return 1000*(time.time() - start_time)\n",
    "    return None\n",
    "\n",
    "\n",
    "def graphes(taillemax):\n",
    "    global liste\n",
    "    liste=[]\n",
    "    for i in range(1,taillemax+1):\n",
    "        liste.append(i)\n",
    "    liste_tlin=[]\n",
    "    liste_tdich=[]\n",
    "    for taille in range(0,taillemax,100):\n",
    "        n_secret=taille-1\n",
    "        liste_tlin.append(lineaire_tps(taille,n_secret))\n",
    "        liste_tdich.append(dicho_tps(taille,n_secret))\n",
    "    plt.title(\"Complexité : recherche linéaire vs dichotomique\")\n",
    "    plt.xlabel(\"n (taille du tableau / 100)\")\n",
    "    plt.ylabel(\"Temps d'exécution (ms)\")\n",
    "    plt.plot(liste_tdich)\n",
    "    plt.plot(liste_tlin)\n",
    "    plt.show()\n",
    "    return \"Fini\""
   ]
  },
  {
   "cell_type": "code",
   "execution_count": 87,
   "metadata": {},
   "outputs": [
    {
     "data": {
      "image/png": "[encoded data removed]",
      "text/plain": [
       "<Figure size 432x288 with 1 Axes>"
      ]
     },
     "metadata": {
      "needs_background": "light"
     },
     "output_type": "display_data"
    },
    {
     "data": {
      "text/plain": [
       "'Fini'"
      ]
     },
     "execution_count": 87,
     "metadata": {},
     "output_type": "execute_result"
    }
   ],
   "source": [
    "graphes(100000)"
   ]
  },
  {
   "cell_type": "markdown",
   "metadata": {},
   "source": [
    "<div class = \"alert alert-warning\">  \n",
    "\n",
    "On va chercher avec quelle vitesse on obtient les résultats.  \n",
    "Pour cela, après avoir exécuté la cellule précédente :\n",
    "1. Exécuter successivement les fonctions : lineaire_print(100), dicho_print(100) et observer le défilement,\n",
    "2. Exécuter successivement les fonctions : lineaire_etapes(7500), dicho_etapes(7500) et comparer le nombre de boucles exécutées.\n",
    "3. Exécuter successivement les fonctions : lineaire_time (9000), dicho_time(9000) et comparer les temps d’exécution, \n",
    "4. Exécuter la fonction : graphes(100000), qu’observez-vous ? La courbe orange correspond au temps de recherche dichotomique du nombre n et la courbe bleue au temps de recherche dichotomique pour un tableau de taille 100000.\n",
    "5. Quelle est la complexité de l'algorithme recherchant la valeur en testant dans l'ordre tous les cas ?\n",
    "6. Quelle est la complexité de l'algorithme de recherche dichotomique."
   ]
  },
  {
   "cell_type": "markdown",
   "metadata": {},
   "source": [
    "### <font color=purple>**Exercice n°3 : Récursivité**</font>\n",
    "Rechercher ce que l'on appelle la récursivité.\n",
    "Proposer un algorithme de recherche dichotomique par récursivité.  \n",
    "L'implémenter en langage Python."
   ]
  },
  {
   "cell_type": "markdown",
   "metadata": {
    "scrolled": true
   },
   "source": [
    "<div class = \"alert alert-info\">  \n",
    "\n",
    "Un algorithme est dit récursif si, à un moment, il s'appelle lui-même.  \n",
    "La récursivité peut posséder de nombreux avantages dans un algorithme :  \n",
    "- Premièrement, elle permet de résoudre des problèmes, d'habitude irrésolvables avec l'utilisation de simples boucles pour ou tant que.  \n",
    "- Elle peut aussi rendre un algorithme plus lisible et plus court, mais surtout, elle permet, dans certains cas, un gain colossal de temps.  \n",
    "\n",
    "\n",
    "Elle sera étudiée en terminale."
   ]
  },
  {
   "cell_type": "code",
   "execution_count": null,
   "metadata": {},
   "outputs": [],
   "source": [
    "def dicho_recursive (nbre_secret, gauche, droite) :\n",
    "    \"\"\"Renvoie le nombre secret cherché dans un tableau par dichotomie,\n",
    "    None s'il ne s'y trouve pas\"\"\"\n",
    "    if gauche > droite or nbre_secret > nombres[droite-1]:\n",
    "    #On s'arrête si l'index de debut coincide avec l'index de fin, dasn ce cas,\n",
    "    #le nombre mystere n'est pas dans la liste.\n",
    "        return None\n",
    "    milieu = (gauche + droite) // 2\n",
    "    if nombres[milieu] == nbre_secret :\n",
    "        return nbre_secret\n",
    "    else :\n",
    "        if nombres[milieu] < nbre_secret :\n",
    "            return dicho_recursive (nbre_secret, milieu + 1, droite)\n",
    "        elif nombres[milieu] > nbre_secret :\n",
    "            return dicho_recursive(nbre_secret, gauche, milieu - 1)\n",
    "\n",
    "nombres = [i for i in range (0,10000)]\n",
    "nbchoisi = int(input(\"Quel nombre choisissez-vous ?\"))\n",
    "dicho_recursive (nbchoisi,0,len(nombres))"
   ]
  },
  {
   "cell_type": "markdown",
   "metadata": {},
   "source": [
    "Vos réponses ici..."
   ]
  }
 ],
 "metadata": {
  "celltoolbar": "Hide code",
  "kernelspec": {
   "display_name": "Python 3",
   "language": "python",
   "name": "python3"
  },
  "language_info": {
   "codemirror_mode": {
    "name": "ipython",
    "version": 3
   },
   "file_extension": ".py",
   "mimetype": "text/x-python",
   "name": "python",
   "nbconvert_exporter": "python",
   "pygments_lexer": "ipython3",
   "version": "3.7.4"
  }
 },
 "nbformat": 4,
 "nbformat_minor": 4
}
