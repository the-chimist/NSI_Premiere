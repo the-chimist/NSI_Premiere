{
 "cells": [
  {
   "cell_type": "markdown",
   "metadata": {
    "hideCode": false,
    "hidePrompt": false
   },
   "source": [
    "# <font color=blue>__CONSTRUCTIONS ELEMENTAIRES EN LANGAGE PYTHON__</font>\n",
    "### Cette fiche est basée sur les problèmes de FranceIoi (fiche 3/3)"
   ]
  },
  {
   "cell_type": "markdown",
   "metadata": {
    "hideOutput": true
   },
   "source": [
    "## <font color=red>__Partie 8 : REPETITIONS CONDITIONNEES :__</font>"
   ]
  },
  {
   "cell_type": "markdown",
   "metadata": {},
   "source": [
    "**Syntaxe :**\n",
    "\n",
    "```python\n",
    "while (condition) :\n",
    "    instruction 1\n",
    "    instruction 2\n",
    "\n",
    "```"
   ]
  },
  {
   "cell_type": "markdown",
   "metadata": {},
   "source": [
    "<div class = \"alert alert-info\">\n",
    "\n",
    "> Attention, la validité de la condition doit être modifiée à l’intérieur de la boucle. Sinon, si la condition est vérifiée, elle le sera toujours et l’on ne sort jamais de la boucle !\n",
    "\n"
   ]
  },
  {
   "cell_type": "markdown",
   "metadata": {},
   "source": [
    "<div class = \"alert alert-warning\">  \n",
    "\n",
    "1- Faire Pb1 – « Département de médecine contrôle d’une épidémie » (le tant que… autre forme de boucle)  \n",
    "    \n",
    "2- Lire Cours – « Boucle infinie »  \n",
    "    \n",
    "3- Faire Pb5 – « Département de chimie : mélange explosif ».  \n",
    "    \n"
   ]
  },
  {
   "cell_type": "code",
   "execution_count": null,
   "metadata": {},
   "outputs": [],
   "source": [
    "#Pb1"
   ]
  },
  {
   "cell_type": "code",
   "execution_count": null,
   "metadata": {},
   "outputs": [],
   "source": [
    "#Pb5"
   ]
  },
  {
   "cell_type": "markdown",
   "metadata": {
    "hideOutput": true
   },
   "source": [
    "## <font color=red>__Partie 9 : NOMBRES A VIRGULE ET AUTRES OUTILS :__</font>"
   ]
  },
  {
   "cell_type": "markdown",
   "metadata": {},
   "source": [
    "<div class = \"alert alert-warning\">  \n",
    "\n",
    "1- Faire Pb2 – « Conversions de distances »  \n",
    "    \n",
    "2- Lire Cours : « Faire des divisions »  \n",
    "    \n",
    "3- Lire Cours : « Opérateurs division entière et reste »  \n",
    "    \n",
    "4- Faire PbC1 – « Achat de livres »  \n",
    "\n",
    "5- Faire PbC2 – «Une belle récolte »\n",
    "\n"
   ]
  },
  {
   "cell_type": "code",
   "execution_count": null,
   "metadata": {},
   "outputs": [],
   "source": [
    "#Pb2"
   ]
  },
  {
   "cell_type": "code",
   "execution_count": null,
   "metadata": {},
   "outputs": [],
   "source": [
    "#PbC1"
   ]
  },
  {
   "cell_type": "code",
   "execution_count": null,
   "metadata": {},
   "outputs": [],
   "source": [
    "#PbC2"
   ]
  },
  {
   "cell_type": "markdown",
   "metadata": {},
   "source": [
    "<div class = \"alert alert-info\">\n",
    "\n",
    "Opérations | | Symboles |  |Exemples\n",
    "------------|- | -------------|- | ------------\n",
    "addition |  |  +   |  |  \t2 + 5 donne 7\n",
    "soustraction| |\t-  | |\t8 -2 donne 6\n",
    "multiplication| |\t*  |  |\t6 * 7 donne 42\n",
    "exponentiation (puissance)| |\t** |\t|   s ** 3 donne 125\n",
    "division\t ||/ |\t|7/2 donne 3.5\n",
    "reste de division entière| |\t%\t ||7 % 3 donne 1\n",
    "quotient de division entière| |\t// ||\t7 // 3 donne 2\n",
    "\n"
   ]
  },
  {
   "cell_type": "markdown",
   "metadata": {
    "hideOutput": true
   },
   "source": [
    "## <font color=red>__Partie 10 : DECOUVERTE DES TABLEAUX :__</font>"
   ]
  },
  {
   "cell_type": "markdown",
   "metadata": {},
   "source": [
    "<div class = \"alert alert-warning\">  \n",
    "\n",
    "1- Lire Cours – « Boucle for »  \n",
    "    \n",
    "2- Faire Pb1 – «Préparation de l’onguent »  \n",
    "    \n",
    "3- Lire Cours – « Accès en dehors du tableau »  \n",
    "    \n",
    "4- Faire Pb3 – «Grand inventaire »  \n",
    "    \n",
    "5- Lire Cours – « Tableaux de taille variable » dans le problème 4.  \n",
    "    \n",
    "6- Lire Cours – « Trier un tableau » dans le problème 7.  \n",
    "    \n",
    "7- Faire Pb10 – «Choix des emplacements »  \n",
    "    \n",
    "8- Lire Cours – « Calculer la taille d’un tableau »  \n",
    "    \n",
    "\n"
   ]
  },
  {
   "cell_type": "code",
   "execution_count": null,
   "metadata": {},
   "outputs": [],
   "source": [
    "#Pb1"
   ]
  },
  {
   "cell_type": "code",
   "execution_count": null,
   "metadata": {},
   "outputs": [],
   "source": [
    "#Pb3"
   ]
  },
  {
   "cell_type": "code",
   "execution_count": null,
   "metadata": {},
   "outputs": [],
   "source": [
    "#Pb10"
   ]
  },
  {
   "cell_type": "markdown",
   "metadata": {},
   "source": [
    "<div class = \"alert alert-info\">  \n",
    "\n",
    "Vous rencontrerez parfois le terme « liste » à la place de tableau, le langage Python identifie ces deux notions.  \n",
    "Voici quelques exemples de la syntaxe utilisée :\n",
    " \n",
    "    \n"
   ]
  },
  {
   "cell_type": "code",
   "execution_count": null,
   "metadata": {},
   "outputs": [],
   "source": [
    "# création d’un tableau contenant 5 entiers  \n",
    "Tableau = [0, 1, 1, 8, 15]\n",
    "print(Tableau)"
   ]
  },
  {
   "cell_type": "code",
   "execution_count": null,
   "metadata": {},
   "outputs": [],
   "source": [
    "# création d’un tableau de 50 éléments, tous égaux à 0\n",
    "Tableau = [0] * 50"
   ]
  },
  {
   "cell_type": "code",
   "execution_count": null,
   "metadata": {},
   "outputs": [],
   "source": [
    "# permet d’accéder au contenu de la 3ème case du tableau\n",
    "#(les  tableaux sont numérotés à partir de 0)\n",
    "Tableau [2]"
   ]
  },
  {
   "cell_type": "code",
   "execution_count": null,
   "metadata": {},
   "outputs": [],
   "source": [
    " # modifie la 3ème case du tableau pour y mettre le nombre 28\n",
    "Tableau [2] = 28"
   ]
  },
  {
   "cell_type": "code",
   "execution_count": null,
   "metadata": {},
   "outputs": [],
   "source": [
    "# permet d’obtenir le nombre d’éléments dans un le tableau\n",
    "len(Tableau)"
   ]
  },
  {
   "cell_type": "markdown",
   "metadata": {},
   "source": [
    "<div class = \"alert alert-info\">\n",
    "\n",
    "Complément sur l’affichage (à partir de la version 3.6 de Pyhton) :  \n",
    "\n",
    "On peut utiliser ce que l’on appelle les \"f-strings\" pour obtenir des affichages plus lisibles en mélangeant variables et texte. On fait précéder les guillemets de f et les variables sont alors distinguées du texte à afficher par les accolades { } :  \n",
    "> f\"texte{ }texte{ }texte\"  \n",
    "> age = 17  \n",
    "> nom = \"Olivier\"  \n",
    "> occupation = \"lycéen\"  \n",
    "> print(f\"{nom} est âgé de {age} ans et est actuellement {occupation}.\")\n",
    "\n",
    "\n"
   ]
  },
  {
   "cell_type": "code",
   "execution_count": null,
   "metadata": {},
   "outputs": [],
   "source": [
    "age = 17  \n",
    "nom = \"Olivier\"  \n",
    "occupation = \"lycéen\"  \n",
    "print(f\"{nom} est âgé de {age} ans et est actuellement {occupation}.\")"
   ]
  },
  {
   "cell_type": "code",
   "execution_count": null,
   "metadata": {},
   "outputs": [],
   "source": []
  }
 ],
 "metadata": {
  "celltoolbar": "Hide code",
  "kernelspec": {
   "display_name": "Python 3",
   "language": "python",
   "name": "python3"
  },
  "language_info": {
   "codemirror_mode": {
    "name": "ipython",
    "version": 3
   },
   "file_extension": ".py",
   "mimetype": "text/x-python",
   "name": "python",
   "nbconvert_exporter": "python",
   "pygments_lexer": "ipython3",
   "version": "3.7.7"
  }
 },
 "nbformat": 4,
 "nbformat_minor": 4
}
