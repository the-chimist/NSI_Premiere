{
 "cells": [
  {
   "cell_type": "markdown",
   "metadata": {
    "hideCode": false,
    "hidePrompt": false
   },
   "source": [
    "# <font color=blue>__CONSTRUCTIONS ELEMENTAIRES EN LANGAGE PYTHON__</font>\n",
    "### Cette fiche est basée sur les problèmes de FranceIoi (fiche 1/3)"
   ]
  },
  {
   "cell_type": "markdown",
   "metadata": {
    "hideOutput": true
   },
   "source": [
    "## <font color=red>__Partie 1 : AFFICHAGE DE TEXTE, SUITE D’INSTRUCTIONS :__</font>"
   ]
  },
  {
   "cell_type": "markdown",
   "metadata": {},
   "source": [
    "<div class = \"alert alert-warning\">  \n",
    "\n",
    "1. Faire Pb1 – « Hello world » - Regarder en pseudo code ce que cela donne.  \n",
    "2. Cours – « Représentation de la sortie d’un programme »   \n",
    "3. Cours – « Afficher du texte : erreurs possibles ».  \n",
    "4. Faire Pb2 – « Présentation » (utilité d’un débogueur)   "
   ]
  },
  {
   "cell_type": "markdown",
   "metadata": {},
   "source": [
    "Vous pouvez écrire vos notes ici"
   ]
  },
  {
   "cell_type": "code",
   "execution_count": null,
   "metadata": {
    "hideCode": false,
    "scrolled": true
   },
   "outputs": [],
   "source": [
    "# Pb1"
   ]
  },
  {
   "cell_type": "code",
   "execution_count": null,
   "metadata": {},
   "outputs": [],
   "source": [
    "# Pb2"
   ]
  },
  {
   "cell_type": "markdown",
   "metadata": {
    "hideOutput": true
   },
   "source": [
    "## <font color=red>__Partie 2 : LES REPETITIONS :__</font>"
   ]
  },
  {
   "cell_type": "markdown",
   "metadata": {},
   "source": [
    "<div class = \"alert alert-info\">  \n",
    "\n",
    "Les boucles permettent de répéter des actions. Il existe deux types de boucles :\n",
    "- les **boucles conditionnelles ou boucles non bornées** que nous verrons à la partie VIII. Crées avec la fonction while(), elles répètent des séquences d’instructions tant qu’une condition est vérifiée.  \n",
    "while : de l'anglais, signifie \"pendant\"/\"jusqu'à\" \n",
    "- les **boucles itératives ou boucles bornées** sont créées avec la fonction for(). Il s’agit de répéter une séquence d’instructions un nombre de fois connu d’avance.  \n",
    "for : de l'anglais, signifie \"pour\"/\"durant\".  "
   ]
  },
  {
   "cell_type": "markdown",
   "metadata": {},
   "source": [
    "```Python \n",
    "for loop in range (n) :\n",
    "            ….instruction 1\n",
    "            ….instruction 2```        "
   ]
  },
  {
   "cell_type": "markdown",
   "metadata": {},
   "source": [
    "```Python \n",
    "for loop in range (4) :\n",
    "       print (“nombre”)\n",
    "       print (loop)\n",
    "Ces instructions seront exécutées 4 fois.\n",
    "```        "
   ]
  },
  {
   "cell_type": "markdown",
   "metadata": {},
   "source": [
    "<div class = \"alert alert-warning\">  \n",
    "\n",
    "1. Faire Pb1 – « Punition », penser à regarder la solution en « pseudo code » \n",
    "2. Lire Cours – « Répétition : Erreurs possibles »\n",
    "3. Lire Cours - « Indentation : la touche tabulation » \n",
    "4. Faire Pb 6 - Page d’écriture\n",
    "5. Faire Pb 7 – Jeu de dames\n",
    "6. Lire Cours – Insérer des commentaires et le faire sur le Pb6 du chapitre : « Page d’écriture ».  \n",
    "\n",
    "**Vous devrez penser désormais à insérer des commentaires dans vos programmes. Nous verrons par la suite comment faire de manière rigoureuse.**"
   ]
  },
  {
   "cell_type": "code",
   "execution_count": null,
   "metadata": {},
   "outputs": [],
   "source": [
    "# Pb1"
   ]
  },
  {
   "cell_type": "code",
   "execution_count": null,
   "metadata": {},
   "outputs": [],
   "source": [
    "# Pb6"
   ]
  },
  {
   "cell_type": "code",
   "execution_count": null,
   "metadata": {},
   "outputs": [],
   "source": [
    "# Pb7"
   ]
  },
  {
   "cell_type": "markdown",
   "metadata": {},
   "source": [
    "<div class = \"alert alert-info\">  \n",
    "\n",
    "Un commentaire est uniquement visible lors de la conception du programme, il n’apparaît pas lors de son exécution et permet donc de se souvenir plus rapidement de l’utilité d’une ligne particulière. Vous devez vous habituer à en écrire autant pour vous que pour une personne voulant utiliser votre programme.  \n",
    "  \n",
    "\n",
    "**Syntaxe :**  \n",
    "- \\# ligne de commentaire  \n",
    "- ''' texte de commentaire sur plusieurs lignes '''\n"
   ]
  },
  {
   "cell_type": "markdown",
   "metadata": {},
   "source": [
    "<div class = \"alert alert-info\">  \n",
    "\n",
    "Complément sur les boucles bornées :  \n",
    "\n",
    "Il est parfois utile de faire une répétition sans forcément avoir besoin de tous les entiers, ou bien d’avoir des entiers dans un ordre décroissant. Pyhton comme d’autres langages propose une solution rapide à ce problème en complétant l’instruction.\n",
    "Par exemple : for i in range (2,11,2) signifie que la variable i prendra successivement les valeurs entre 2 et 11 (11 exclu), par pas de 2 soit 2 puis 4 puis 6 puis 8 puis 10.\n",
    "\n"
   ]
  },
  {
   "cell_type": "markdown",
   "metadata": {},
   "source": [
    "<div class = \"alert alert-warning\">  \n",
    "\n",
    "Afficher à l’aide d’une boucle bornée la liste des 30 premiers multiples de 7, la seule expression autorisée dans la boucle étant « print(i) ».\n",
    "De même réaliser un compte à rebours, en partant de 100 jusqu’à 1.\n"
   ]
  },
  {
   "cell_type": "code",
   "execution_count": null,
   "metadata": {},
   "outputs": [],
   "source": [
    "# Pb1"
   ]
  },
  {
   "cell_type": "code",
   "execution_count": null,
   "metadata": {},
   "outputs": [],
   "source": [
    "# Pb2"
   ]
  },
  {
   "cell_type": "markdown",
   "metadata": {
    "hideOutput": true
   },
   "source": [
    "## <font color=red>__Partie 3 : CALCULS ET DECOUVERTE DES VARIABLES :__</font>"
   ]
  },
  {
   "cell_type": "markdown",
   "metadata": {},
   "source": [
    "<div class = \"alert alert-info\">\n",
    "\n",
    "En informatique, les variables permettent de stocker une valeur (nombre, lettre,…) dont on se resservira par la suite en lui associant un nom. Les variables peuvent changer de valeur au cours du temps donc du déroulement du programme.    \n",
    "Pour utiliser une variable, il y a généralement deux étapes : \n",
    "• La déclaration de la variable, \n",
    "• L'initialisation de la variable, \n",
    "  \n",
    "Pour disposer d’une variable, il faut donc d’abord la définir. Lors de cette définition, il faut selon le langage utilisé déclarer le type de votre variable (en python, ce n’est pas utile, le langage le fait automatiquement), ce qui indique à l’ordinateur l’espace nécessaire à réserver en mémoire.\n",
    "<br>\n",
    "\n"
   ]
  },
  {
   "cell_type": "markdown",
   "metadata": {},
   "source": [
    "<div class = \"alert alert-info\">  \n",
    "\n",
    "Initialiser une variable c’est affecter une première valeur connue à cette variable avant de l'utiliser.  \n",
    "\n",
    "En python, les deux opérations se font en même temps.  \n",
    "\n",
    "- age = 17 \t\t#  on déclare une variable age qui contient la valeur 17\n",
    "- nom = ‘aurélien’  \t#  autre variable  \n",
    "<br> \n",
    "Pour connaître le type d’une variable, il suffit de taper type (nom_de_la_variable).  \n",
    "\n",
    "Vous rencontrerez très vite les types ci-dessous mais il en existe bien d’autres :  \n",
    "\n",
    "• **bool** : les valeurs possibles sont True ou False,  \n",
    "• **str** : une chaîne de caractères alphanumérique ‘ a ’ ,‘b ’ ,‘c ’ , etc.  \n",
    "• **int** : des nombres entiers compris entre –2147483648 et 2147483647, le plus souvent utilisé,  \n",
    "• **float** : des nombres réels comme 1,5897  \n",
    "\n",
    "Le nom de la variable doit être choisi de la manière la plus explicite possible, mais ne doit pas comporter d'espace, ni ne peut comporter que des chiffres, ni ne peut commencer par un chiffre.  \n",
    "    \n"
   ]
  },
  {
   "cell_type": "markdown",
   "metadata": {},
   "source": [
    "<div class = \"alert alert-warning\">  \n",
    "\n",
    "1- Pb4 – « L’algoréathlon »  \n",
    "\n",
    "2- Lire Cours –« Nom d’une variable »,  \n",
    "    \n",
    "3- Pb5 – « Cour de récréation »  \n",
    "\n",
    "4- Pb6 – « Une partie de cache-cache »  \n",
    "    \n",
    "5- Lire Cours – « Variable : suppléments »  \n",
    "    \n",
    "6- Pb10 – « Kermesse »  \n",
    "    \n",
    "7- Lire Cours – « Mettre à profit les identifiants »  \n",
    "    \n",
    "8- Lire Cours – « Suivre l’évolution des variables d’un programme »  \n",
    "    \n"
   ]
  },
  {
   "cell_type": "code",
   "execution_count": null,
   "metadata": {},
   "outputs": [],
   "source": [
    "#Pb4"
   ]
  },
  {
   "cell_type": "code",
   "execution_count": null,
   "metadata": {},
   "outputs": [],
   "source": [
    "#Pb5"
   ]
  },
  {
   "cell_type": "code",
   "execution_count": null,
   "metadata": {},
   "outputs": [],
   "source": [
    "#Pb6"
   ]
  },
  {
   "cell_type": "code",
   "execution_count": null,
   "metadata": {},
   "outputs": [],
   "source": [
    "#Pb10"
   ]
  }
 ],
 "metadata": {
  "celltoolbar": "Hide code",
  "kernelspec": {
   "display_name": "Python 3",
   "language": "python",
   "name": "python3"
  },
  "language_info": {
   "codemirror_mode": {
    "name": "ipython",
    "version": 3
   },
   "file_extension": ".py",
   "mimetype": "text/x-python",
   "name": "python",
   "nbconvert_exporter": "python",
   "pygments_lexer": "ipython3",
   "version": "3.7.7"
  }
 },
 "nbformat": 4,
 "nbformat_minor": 4
}
