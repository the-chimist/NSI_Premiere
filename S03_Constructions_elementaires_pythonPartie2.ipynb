{
 "cells": [
  {
   "cell_type": "markdown",
   "metadata": {
    "hideCode": false,
    "hidePrompt": false
   },
   "source": [
    "# <font color=blue>__CONSTRUCTIONS ELEMENTAIRES EN LANGAGE PYTHON__</font>\n",
    "### Cette fiche est basée sur les problèmes de FranceIoi (fiche 2/3)"
   ]
  },
  {
   "cell_type": "markdown",
   "metadata": {
    "hideOutput": true
   },
   "source": [
    "## <font color=red>__Partie 4 : LECTURE DE L’ENTREE :__</font>"
   ]
  },
  {
   "cell_type": "markdown",
   "metadata": {},
   "source": [
    "<div class = \"alert alert-warning\">  \n",
    "1. Lire Cours -  « Des programmes interactifs » (communication avec l’utilisateur)  \n",
    "\n",
    "2- Pb1 - Faire « récolte » (programme avec entrée)  \n",
    "    \n",
    "3- Pb6 - Faire « jeu de calcul mental »  \n",
    "    \n",
    "4- Lire cours – « Lecture d’entiers : autre erreur possible »  \n",
    "    \n",
    "5- Lire cours – « Erreur si on lit trop de choses »  \n",
    "    \n",
    "   "
   ]
  },
  {
   "cell_type": "code",
   "execution_count": null,
   "metadata": {
    "hideCode": false,
    "scrolled": true
   },
   "outputs": [],
   "source": [
    "# Pb1"
   ]
  },
  {
   "cell_type": "code",
   "execution_count": null,
   "metadata": {},
   "outputs": [],
   "source": [
    "# Pb6"
   ]
  },
  {
   "cell_type": "markdown",
   "metadata": {
    "hideOutput": true
   },
   "source": [
    "## <font color=red>__Partie 5 : TESTS ET CONDITIONS :__</font>"
   ]
  },
  {
   "cell_type": "markdown",
   "metadata": {},
   "source": [
    "<div class = \"alert alert-info\">  \n",
    "\n",
    "Pour réaliser des tests conditionnels sur une variable, on utilise :  \n",
    "- **if** : de l'anglais qui signifie \"si\"  \n",
    "- **else** : de l'anglais qui signifie \"autre\"/\"sinon\"  \n",
    "\n",
    "    <br>\n",
    "Une condition peut être traduite ainsi : Je veux que cette/ces actions soi(en)t réalisée(s) si ... sinon, cette/ces action(s) ... sera(ont) exécutée(s).  \n",
    "    \n"
   ]
  },
  {
   "cell_type": "markdown",
   "metadata": {},
   "source": [
    "```Python\n",
    "Syntaxe :\n",
    "if (condition) :\n",
    "    instruction 1\n",
    "    instruction 2\n",
    "else :\n",
    "    instruction 1\n",
    "    instruction 2\n",
    "```        "
   ]
  },
  {
   "cell_type": "markdown",
   "metadata": {},
   "source": [
    "```Python \n",
    " S’il y a plus de conditions, on peut utiliser le mot clé elif (à la place de else if).\n",
    "\n",
    "if (condition) :\n",
    "    instruction\n",
    "elif :\n",
    "    instruction\n",
    "else :\n",
    "    instruction\n",
    "\n",
    "```        "
   ]
  },
  {
   "cell_type": "markdown",
   "metadata": {},
   "source": [
    "<div class = \"alert alert-info\">  \n",
    "\n",
    "Des exemples de ce que l’on peut mettre entre parenthèse dans la condition :\n",
    "\n",
    "- if (variable_a == valeur)-----------------------> # condition égal à  \n",
    "    \n",
    "- if (variable_a > valeur)------------------------># condition supérieur à  \n",
    "    \n",
    "- if (variable_a >= valeur) ----------------------> \t\t\t# condition supérieur ou égal à  \n",
    "    \n",
    "- if (variable_a < valeur) -----------------------> \t\t\t# condition inférieur à  \n",
    "                        \n",
    "- if (variable_a <= valeur) ----------------------> \t\t\t# condition inférieur ou égal à  \n",
    "    \n",
    "- if (variable_a != valeur) ---------------------->\t\t\t# condition n'est pas égal à  \n",
    "    \n",
    "- if (condition1 or condition2)------------------->  \t\t# condition1 ou condition 2 vérifiée  \n",
    "    \n",
    "- if (condition1 and condition2)----------------->\t\t# condition1 et condition2 vérifiées  \n",
    "    \n",
    "- if (not condition1) ------------------------------->\t\t    # condition1 n’est pas vérifiée  \n",
    "    \n"
   ]
  },
  {
   "cell_type": "markdown",
   "metadata": {},
   "source": [
    "<div class = \"alert alert-warning\">  \n",
    "\n",
    "1- Pb1 – Faire « Transport des bagages » (découverte de la fonction si…donc du test conditionnel)  \n",
    "    \n",
    "2- Pb5 – Faire « Tarif du bateau » (on complète avec le sinon du test conditionnel)  \n",
    "    \n",
    "3- Lire cours – Blocs conditionnels formés de plusieurs instructions  \n",
    "    \n",
    "4- Pb6 – Faire « Traversée du pont »  \n",
    "    \n",
    "5- Pb8 – Faire « Mot de passe du village » (opérateur d’égalité)  \n",
    "    \n"
   ]
  },
  {
   "cell_type": "code",
   "execution_count": null,
   "metadata": {},
   "outputs": [],
   "source": [
    "# Pb1"
   ]
  },
  {
   "cell_type": "code",
   "execution_count": null,
   "metadata": {},
   "outputs": [],
   "source": [
    "# Pb5"
   ]
  },
  {
   "cell_type": "code",
   "execution_count": null,
   "metadata": {},
   "outputs": [],
   "source": [
    "# Pb6"
   ]
  },
  {
   "cell_type": "code",
   "execution_count": null,
   "metadata": {},
   "outputs": [],
   "source": [
    "# Pb8"
   ]
  },
  {
   "cell_type": "markdown",
   "metadata": {
    "hideOutput": true
   },
   "source": [
    "## <font color=red>__Partie 6 : STRUCTURES AVANCEES :__</font>"
   ]
  },
  {
   "cell_type": "markdown",
   "metadata": {},
   "source": [
    "<div class = \"alert alert-warning\">  \n",
    "\n",
    "1- Lire Cours – « Structures imbriquées »  \n",
    "\n",
    "2- Pb2 – Faire « Planning de la journée »  \n",
    "\n",
    "3- Pb8 – Faire « Le juste prix »   \n"
   ]
  },
  {
   "cell_type": "code",
   "execution_count": null,
   "metadata": {},
   "outputs": [],
   "source": [
    "#Pb2"
   ]
  },
  {
   "cell_type": "code",
   "execution_count": null,
   "metadata": {},
   "outputs": [],
   "source": [
    "#Pb8"
   ]
  },
  {
   "cell_type": "markdown",
   "metadata": {
    "hideOutput": true
   },
   "source": [
    "## <font color=red>__Partie 7 : CONDITIONS AVANCEES, OPERATEURS BOOLEENS :__</font>"
   ]
  },
  {
   "cell_type": "markdown",
   "metadata": {},
   "source": [
    "<div class = \"alert alert-warning\">  \n",
    "\n",
    "1- Pb3 – Faire « Nombre de jours dans le mois »  \n",
    "\n",
    "2- Lire Cours – « Booléens choses à ne pas faire »  \n",
    "\n",
    "3- Pb10 – Faire « Zone de couleurs »  \n",
    "\n"
   ]
  },
  {
   "cell_type": "code",
   "execution_count": null,
   "metadata": {},
   "outputs": [],
   "source": [
    "#Pb3"
   ]
  },
  {
   "cell_type": "code",
   "execution_count": null,
   "metadata": {},
   "outputs": [],
   "source": [
    "#Pb10"
   ]
  }
 ],
 "metadata": {
  "celltoolbar": "Hide code",
  "kernelspec": {
   "display_name": "Python 3",
   "language": "python",
   "name": "python3"
  },
  "language_info": {
   "codemirror_mode": {
    "name": "ipython",
    "version": 3
   },
   "file_extension": ".py",
   "mimetype": "text/x-python",
   "name": "python",
   "nbconvert_exporter": "python",
   "pygments_lexer": "ipython3",
   "version": "3.7.7"
  }
 },
 "nbformat": 4,
 "nbformat_minor": 4
}
