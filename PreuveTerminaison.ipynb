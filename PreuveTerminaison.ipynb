{
 "cells": [
  {
   "cell_type": "markdown",
   "metadata": {},
   "source": [
    "# <font color=blue>__CORRECTION ET TERMINAISON D'UN PROGRAMME__</font>    "
   ]
  },
  {
   "cell_type": "markdown",
   "metadata": {},
   "source": [
    "## <font color=red>__Partie 1 : Un programme se termine-t-il toujours ?__</font>\n",
    "\n",
    "Lorsqu'un algorithme contient une boucle, il est raisonnable de s'interroger sur la terminaison de cet algorithme. En effet, un programme qui ne terminerait pas, par exemple parce que l'on rentre dans une boucle infinie poserait de gros problèmes.  \n",
    "Vous pouvez donc retenir ici les notions dites de **preuve** et de **terminaison**. Cet aspect de l'algorithmique est important et pour certains programmes très complexes leur terminaison n'est pas prouvée.  <br> \n",
    "En général la démontration de la terminaison d'une boucle se fait à l'aide d'un **variant** de boucle, c'est à dire un entier naturel qui décroit strictement à chaque itération.  "
   ]
  },
  {
   "cell_type": "markdown",
   "metadata": {},
   "source": [
    "Considérons le programme suivant où la variable n contient initialement une valeur entière.\n",
    "Il contient une boucle while et son exécution est donc a priori susceptible de diverger. \n",
    "Qu'en pensez-vous ?\n",
    "Vous pouvez tester plusieurs valeurs..."
   ]
  },
  {
   "cell_type": "markdown",
   "metadata": {},
   "source": [
    "Vos réponses ici..."
   ]
  },
  {
   "cell_type": "code",
   "execution_count": null,
   "metadata": {},
   "outputs": [],
   "source": [
    "n = int(input(\"Entrez une valeur entière\"))\n",
    "q = 0\n",
    "while n >= 3 :\n",
    "    n = n - 3\n",
    "    q = q + 1\n",
    "print (q)\n"
   ]
  },
  {
   "cell_type": "markdown",
   "metadata": {},
   "source": [
    "<br>  \n",
    "  On peut justifier qu'en l'occurence, ce programme va toujours se terminer.\n",
    "En effet, à chaque tour de boucle la nouvelle valeur affectée à n est strictement inférieure à la précédente. Tôt ou tard cette valeur finit par devenir inférieure ou égale à 2, ce qui provoquera l'arrêt de la boucle et l'exécution de la dernière instruction du programme.\n",
    "Cette technique de raisonnement est appelée technique du _variant_. Elle consiste à trouver parmi les éléments du programme une quantité entière et positive et qui décroît strictement à chaque tour de boucle, qu'on appelle variant de la boucle. Cela peut être comme ci dessus directement l'une des variables du programme, ou de manière plus générale une combinaison.  \n",
    "  \n",
    "Ainsi, dans le programme suivant :"
   ]
  },
  {
   "cell_type": "code",
   "execution_count": null,
   "metadata": {},
   "outputs": [],
   "source": [
    "t = [i*i for i in range (50)]\n",
    "v = 9\n",
    "i = 0\n",
    "while i < len (t) :\n",
    "    if t[i] == v: \n",
    "        break\n",
    "    i = i + 1\n",
    "print (\"Ce programme est terminé !\")"
   ]
  },
  {
   "cell_type": "markdown",
   "metadata": {},
   "source": [
    "qui parcourt un tableau t à la recherche d'un élément v (ici t est l'ensemble des 50 premier carrés), nous avons une variable i qui est incrémentée à chaque tour jusqu'à atteindre la valeur len(t).\n",
    "Ce qui diminue à chaque tour jusqu'à s'annuler est donc **l'écart entre i et len (t)**. Nous pouvons donc justifier que ce programme finit toujours en prenant\n",
    "pour variant la quantité len (t) - i."
   ]
  },
  {
   "cell_type": "markdown",
   "metadata": {},
   "source": [
    "\n",
    "<font color=purple><br>**A retenir : Une boncle while permet de répéter un bloc d'instructions tant qu'une condition est vérifiée. Cette instruction ouvre la possibilité que l'exécution d'un programme diverge, c'est-à-dire se poursuive indéfiniment. Si une divergence n'est pas l'effet souhaité il devient alors utile  de réfléchir à la terminaison du programme en s'assurant que les conditions menant à l'arrêt de chaque boucle finiront effectivement par être vérifiées.**<br></font>\n"
   ]
  },
  {
   "cell_type": "markdown",
   "metadata": {},
   "source": [
    "#### **Exercice 1 :**\n",
    "Le programme suivant termine-t-il parfois ? Toujours ?\n",
    "Si oui, montrez-le à l'aide d'un variant de boucle, si non trouvez un contre exemple."
   ]
  },
  {
   "cell_type": "code",
   "execution_count": null,
   "metadata": {},
   "outputs": [],
   "source": [
    "n = int(input(\"Entrez un nombre entier.\"))\n",
    "q = 0\n",
    "while n != 0:\n",
    "    n -= 3\n",
    "    q += 1\n",
    "    print(\"Je suis dans la boucle...\")\n",
    "print (\"Ce programme est terminé\")"
   ]
  },
  {
   "cell_type": "markdown",
   "metadata": {},
   "source": [
    "Vos réponses ici..."
   ]
  },
  {
   "cell_type": "markdown",
   "metadata": {},
   "source": [
    "#### **Exercice 2 :**\n",
    "A désignant un entier, lequel des codes suivants ne termine pas ?\n",
    "Réponses possibles :\n",
    "\n",
    "A  \n",
    ">```python\n",
    "i = A + 1  \n",
    "while i < A:  \n",
    "    i = i-1 \n",
    "\n",
    "B  \n",
    ">```python\n",
    "i = A + 1  \n",
    "while i < A:  \n",
    "    i = i + 1  \n",
    "\n",
    "\n",
    "C\n",
    ">```python\n",
    "i = A - 1\n",
    "while i < A:\n",
    "    i = i - 1\n",
    "\n",
    "D\n",
    ">```python\n",
    "i = A - 1\n",
    "while i < A:\n",
    "    i = i + 1\n",
    "```"
   ]
  },
  {
   "cell_type": "code",
   "execution_count": null,
   "metadata": {},
   "outputs": [],
   "source": [
    "# Vous pouvez tester ici"
   ]
  },
  {
   "cell_type": "markdown",
   "metadata": {},
   "source": [
    "Vos réponses ici..."
   ]
  },
  {
   "cell_type": "markdown",
   "metadata": {},
   "source": [
    "#### **Exercice 3 :**\n",
    "On prétend que chacun des programmes suivants, après avoir demandé à l'utilisateur deux nombres entiers positifs a et b à l'utilisateur, effectue la multiplication de a par b.\n",
    "1. Ces programmes terminent-ils ?\n",
    "2. Si oui, identifier pour chacun un variant de la boucle."
   ]
  },
  {
   "cell_type": "code",
   "execution_count": null,
   "metadata": {},
   "outputs": [],
   "source": [
    "a = int(input(\"a : \"))\n",
    "b = int(input(\"b : \"))\n",
    "m = 0\n",
    "while b > 0 :\n",
    "    m = m + a\n",
    "    b = b - 1\n",
    "print(\"a * b =\", m)"
   ]
  },
  {
   "cell_type": "code",
   "execution_count": null,
   "metadata": {},
   "outputs": [],
   "source": [
    "a = int(input(\"a : \"))\n",
    "b = int(input(\"b : \"))\n",
    "i = 0\n",
    "m = 0\n",
    "while i < b :\n",
    "    m = m + a\n",
    "    i = i + 1\n",
    "print(\"a * b =\", m)"
   ]
  },
  {
   "cell_type": "markdown",
   "metadata": {},
   "source": [
    "Vos réponses ici..."
   ]
  },
  {
   "cell_type": "markdown",
   "metadata": {},
   "source": [
    "#### **Exercice 4 :**\n",
    "On prétend que la fonction suivante réordonne les éléments du tableau t par rapport à une valeur v de référence. Il place à gauche les éléments plus petits que v et à droite les éléments plus grands.\n",
    "1. Créer \"manuellement\" un tableau de 8 éléments rangés de manière aléatoire.\n",
    "2. Que devez-vous écrire pour tester la fonction suivante avec la valeur 5 ?\n",
    "3. Justifier que cette fonction termine à l'aide de la technique du variant."
   ]
  },
  {
   "cell_type": "code",
   "execution_count": null,
   "metadata": {},
   "outputs": [],
   "source": [
    "def separe(t, v):\n",
    "    i = 0\n",
    "    j = len(t) - 1\n",
    "    while i < j :\n",
    "        if t[i] <= v:\n",
    "            i += 1\n",
    "        else :\n",
    "            tmp = t[i]\n",
    "            t[i] = t[j]\n",
    "            t[j] = tmp\n",
    "            j -= 1"
   ]
  },
  {
   "cell_type": "code",
   "execution_count": null,
   "metadata": {},
   "outputs": [],
   "source": [
    "# Testez le code ici"
   ]
  },
  {
   "cell_type": "markdown",
   "metadata": {},
   "source": [
    "Vos réponses ici..."
   ]
  },
  {
   "cell_type": "markdown",
   "metadata": {},
   "source": [
    "#### **Exercice 5 :**\n",
    "On prétend que la fonction suivante affiche une certaine alternance d'éléments des 2 tableaux t1 et t2.\n",
    "1. Que devez-vous écrire pour tester la fonction suivante avec les tableaux t1 et t2 ?\n",
    "2. Justifier que cette fonction termine à l'aide de la technique du variant."
   ]
  },
  {
   "cell_type": "code",
   "execution_count": null,
   "metadata": {},
   "outputs": [],
   "source": [
    "def entrelace (t1,t2) :\n",
    "    i1 = 0\n",
    "    i2 = 0\n",
    "    while i1 < len(t1) and i2 < len(t2) :\n",
    "        if t1[i1] < t2[i2] :\n",
    "            print(t1[i1],end=\" \")\n",
    "            i1 = i1 + 1\n",
    "        else :\n",
    "            print(t2[i2],end=\" \")\n",
    "            i2 = i2 + 1"
   ]
  },
  {
   "cell_type": "code",
   "execution_count": null,
   "metadata": {},
   "outputs": [],
   "source": [
    "# Testez le code ici\n",
    "t1 = [i for i in range(20) if i%2==0]\n",
    "print(t1)\n",
    "t2 = [i for i in range(20) if i%2==1]\n",
    "print(t2)"
   ]
  },
  {
   "cell_type": "markdown",
   "metadata": {},
   "source": [
    "Vos réponses ici..."
   ]
  },
  {
   "cell_type": "markdown",
   "metadata": {},
   "source": [
    "## <font color=red>**Partie 2 : Un programme est-il toujours correct ?**</font>"
   ]
  },
  {
   "cell_type": "markdown",
   "metadata": {},
   "source": [
    "A suivre..."
   ]
  },
  {
   "cell_type": "code",
   "execution_count": null,
   "metadata": {},
   "outputs": [],
   "source": []
  }
 ],
 "metadata": {
  "kernelspec": {
   "display_name": "Python 3",
   "language": "python",
   "name": "python3"
  },
  "language_info": {
   "codemirror_mode": {
    "name": "ipython",
    "version": 3
   },
   "file_extension": ".py",
   "mimetype": "text/x-python",
   "name": "python",
   "nbconvert_exporter": "python",
   "pygments_lexer": "ipython3",
   "version": "3.7.4"
  }
 },
 "nbformat": 4,
 "nbformat_minor": 4
}
